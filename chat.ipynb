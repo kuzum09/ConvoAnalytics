{
 "cells": [
  {
   "cell_type": "code",
   "execution_count": 84,
   "metadata": {},
   "outputs": [],
   "source": [
    "import re\n",
    "import pandas as pd"
   ]
  },
  {
   "cell_type": "code",
   "execution_count": 85,
   "metadata": {},
   "outputs": [],
   "source": [
    "f=open('WhatsApp Chat with Naila Navratri🔥 💐🎈🌹🔥\\WhatsApp Chat with Naila Navratri🔥 💐🎈🌹🔥.txt', 'r', encoding='utf8')"
   ]
  },
  {
   "cell_type": "code",
   "execution_count": 86,
   "metadata": {},
   "outputs": [],
   "source": [
    "data=f.read()"
   ]
  },
  {
   "cell_type": "code",
   "execution_count": 87,
   "metadata": {},
   "outputs": [
    {
     "name": "stdout",
     "output_type": "stream",
     "text": [
      "11/10/2024, 7:06 pm - Messages and calls are end-to-end encrypted. No one outside of this chat, not even WhatsApp, can read or listen to them. Tap to learn more.\n",
      "11/10/2024, 7:06 pm - ~ Abhash Varshney created group \"Naila Navratri🔥 💐🎈🌹🔥\"\n",
      "11/10/2024, 7:06 pm - ~ Abhash Varshney added you\n",
      "11/10/2024, 7:06 pm - Anjali Di Mahamaya: Acha\n",
      "11/10/2024, 7:06 pm - Shalu Di Mahamaya: Are hum nhi gye h 😳😳\n",
      "11/10/2024, 7:07 pm - Anjali Di Mahamaya: Ye group bna h naila k liye\n",
      "11/10/2024, 7:07 pm - Anjali Di Mahamaya: Or hum ghar me baithe h\n",
      "11/10/2024, 7:07 pm - Shalu Di Mahamaya: 🤣🤣🤣🤣\n",
      "11/10/2024, 7:07 pm - Kusum: 🤣🤣🤣\n",
      "11/10/2024, 7:07 pm - Shalu Di Mahamaya: Janbujh ke ye sab ho raha h\n",
      "11/10/2024, 7:07 pm - +91 99269 15696: Light show chlega tb video call krta hu\n",
      "11/10/2024, 7:07 pm - Kusum: group main video call karenge shyd\n",
      "11/10/2024, 7:07 pm - Anjali Di Mahamaya: Acha acha\n",
      "11/10/2024, 7:07 pm - Anjali Di Mahamaya: Khaogar to bhi kr lena fr\n",
      "11/10/2024, 7:08 pm - +91 99269 15696: Dekhna 😍\n",
      "11/10/2024, 7:08 pm - Anjali Di Mahamaya: Kr lenge guyss join\n",
      "11/10/2024, 7:08 pm - Kusum: <Media omitted>\n",
      "11/10/2024, 7:08 pm - Anjali Di Mahamaya: Monika Darling.vcf (file attached)\n",
      "11/10/2024, 7:08 pm - +91 91743 47310: Mobile me hi phuch jaoge\n",
      "11/10/2024, 7:08 pm - +91 91743 47310: Don't worry\n",
      "11/10/2024, 7:08 pm - Anjali Di Mahamaya: Add krdo Monika didi ko bhi\n",
      "11/10/2024, 7:09 pm - Anjali Di Mahamaya: Apna network sahi jagah set krk rakhna\n",
      "11/10/2024, 7:09 pm - +91 99269 15696: ??\n",
      "11/10/2024, 7:09 pm - Anjali Di Mahamaya: Hum bhi jayenge Baleno me\n",
      "11/10/2024, 7:10 pm - +91 91743 47310: Okk\n",
      "11/10/2024, 7:10 pm - +91 91743 47310: 😜\n",
      "11/10/2024, 7:10 pm - +91 91743 47310: Jldi ao\n",
      "11/10/2024, 7:10 pm - Anjali Di Mahamaya: Kya khaoge woh bhi dikha dena\n",
      "11/10/2024, 7:10 pm - Anjali Di Mahamaya: Sb me video cl chaiye hume\n",
      "11/10/2024, 7:10 pm - Shalu Di Mahamaya: Anjali dee aisi hi pet bhar legi dekh ke\n",
      "11/10/2024, 7:10 pm - Anjali Di Mahamaya: 🤣\n",
      "11/10/2024, 7:11 pm - +91 91743 47310: null\n",
      "11/10/2024, 7:11 pm - Anjali Di Mahamaya: Num addd krdo guyss\n",
      "11/10/2024, 7:13 pm - +91 91743 47310: Network slow h yr bhid ke karn\n",
      "11/10/2024, 7:13 pm - Happy Bahiya: <Media omitted>\n",
      "11/10/2024, 7:13 pm - Happy Bahiya: <Media omitted>\n",
      "11/10/2024, 7:15 pm - Happy Bahiya: <Media omitted>\n",
      "11/10/2024, 7:16 pm - ~ Abhash Varshney added Monika Di Mahamaya\n",
      "11/10/2024, 7:16 pm - +91 91743 47310: Connecting ni ho rh\n",
      "11/10/2024, 7:17 pm - Monika Di Mahamaya: Dhanyawad doston...m aa gayi hu🤣\n",
      "11/10/2024, 7:17 pm - Shalu Di Mahamaya: Thoda late ho gya🤣🤣\n",
      "11/10/2024, 7:18 pm - Monika Di Mahamaya: Wahi😂\n",
      "11/10/2024, 7:18 pm - Monika Di Mahamaya: Sabke liye mele se khilona laana\n",
      "11/10/2024, 7:19 pm - Shalu Di Mahamaya: Wo sirf jhonty hi liya h apni bhn ke liye\n",
      "11/10/2024, 7:19 pm - Happy Bahiya: Ky bolti public\n",
      "11/10/2024, 7:20 pm - Kusum: khilone wali bullet\n",
      "11/10/2024, 7:20 pm - Shalu Di Mahamaya: Yeeeee......\n",
      "11/10/2024, 7:20 pm - Shalu Di Mahamaya: Ab jhonty ko uski jrurt nhi h\n",
      "11/10/2024, 7:21 pm - Happy Bahiya: <Media omitted>\n",
      "11/10/2024, 7:22 pm - Happy Bahiya: <Media omitted>\n",
      "11/10/2024, 7:22 pm - Happy Bahiya: <Media omitted>\n",
      "11/10/2024, 7:22 pm - Happy Bahiya: <Media omitted>\n",
      "11/10/2024, 7:22 pm - Happy Bahiya: <Media omitted>\n",
      "11/10/2024, 7:22 pm - Happy Bahiya: <Media omitted>\n",
      "11/10/2024, 7:22 pm - Happy Bahiya: <Media omitted>\n",
      "11/10/2024, 7:22 pm - Happy Bahiya: <Media omitted>\n",
      "11/10/2024, 7:22 pm - Happy Bahiya: <Media omitted>\n",
      "11/10/2024, 7:22 pm - Happy Bahiya: <Media omitted>\n",
      "11/10/2024, 7:22 pm - Happy Bahiya: <Media omitted>\n",
      "11/10/2024, 7:22 pm - Happy Bahiya: <Media omitted>\n",
      "11/10/2024, 7:22 pm - Happy Bahiya: <Media omitted>\n",
      "11/10/2024, 7:22 pm - Happy Bahiya: <Media omitted>\n",
      "11/10/2024, 7:22 pm - Happy Bahiya: <Media omitted>\n",
      "11/10/2024, 7:22 pm - Happy Bahiya: <Media omitted>\n",
      "11/10/2024, 7:22 pm - Happy Bahiya: <Media omitted>\n",
      "11/10/2024, 7:22 pm - Happy Bahiya: <Media omitted>\n",
      "11/10/2024, 7:22 pm - Happy Bahiya: <Media omitted>\n",
      "11/10/2024, 7:22 pm - Happy Bahiya: <Media omitted>\n",
      "11/10/2024, 7:22 pm - Happy Bahiya: <Media omitted>\n",
      "11/10/2024, 7:22 pm - Happy Bahiya: <Media omitted>\n",
      "11/10/2024, 7:22 pm - Happy Bahiya: <Media omitted>\n",
      "11/10/2024, 7:22 pm - Happy Bahiya: <Media omitted>\n",
      "11/10/2024, 7:22 pm - Happy Bahiya: <Media omitted>\n",
      "11/10/2024, 7:38 pm - Happy Bahiya: <Media omitted>\n",
      "11/10/2024, 7:38 pm - Happy Bahiya: <Media omitted>\n",
      "11/10/2024, 7:38 pm - Happy Bahiya: <Media omitted>\n",
      "12/10/2024, 8:01 am - Monika Di Mahamaya: Woahh🤩\n",
      "12/10/2024, 9:17 am - +91 91743 47310: <Media omitted>\n",
      "12/10/2024, 12:57 pm - Monika Di Mahamaya: Kahan k best hota hai\n",
      "12/10/2024, 12:58 pm - Monika Di Mahamaya: ??\n",
      "12/10/2024, 12:58 pm - Monika Di Mahamaya: Science college ja sakte hai\n",
      "12/10/2024, 12:59 pm - +91 91743 47310: Police ground\n",
      "12/10/2024, 12:59 pm - +91 91743 47310: Science college ka achha rhta h\n",
      "12/10/2024, 1:02 pm - Monika Di Mahamaya: Wokkays\n",
      "12/10/2024, 1:02 pm - Shalu Di Mahamaya: Chlna h kya??\n",
      "12/10/2024, 1:02 pm - Monika Di Mahamaya: Chlo\n",
      "12/10/2024, 1:03 pm - Shalu Di Mahamaya: Ok\n",
      "12/10/2024, 1:03 pm - Shalu Di Mahamaya: Time??\n",
      "12/10/2024, 1:03 pm - Monika Di Mahamaya: Baaki batao\n",
      "12/10/2024, 1:03 pm - Monika Di Mahamaya: Kitne time jaana hai\n",
      "12/10/2024, 1:03 pm - Shalu Di Mahamaya: Aur sab so rahe h🤣🤣\n",
      "12/10/2024, 1:03 pm - Monika Di Mahamaya: 😂😂\n",
      "12/10/2024, 1:07 pm - Kusum: Time ??\n",
      "12/10/2024, 1:08 pm - Monika Di Mahamaya: 7:30 sahi rahega\n",
      "12/10/2024, 1:08 pm - Monika Di Mahamaya: Baaki bataye\n",
      "12/10/2024, 1:09 pm - Shalu Di Mahamaya: Thik h\n",
      "12/10/2024, 1:33 pm - +91 91743 47310: 7 ko\n",
      "12/10/2024, 1:33 pm - +91 91743 47310: 7:30 jaoge to\n",
      "12/10/2024, 1:34 pm - +91 91743 47310: Wha tk phuch hu ni paoge\n",
      "12/10/2024, 1:44 pm - +91 99269 15696: Science college ground chlna hai kya\n",
      "12/10/2024, 1:45 pm - Monika Di Mahamaya: 7 ok\n",
      "12/10/2024, 5:10 pm - +91 91743 47310: <Media omitted>\n",
      "12/10/2024, 5:25 pm - Shalu Di Mahamaya: Humne to subah dekh liya\n",
      "12/10/2024, 6:46 pm - +91 91743 47310: Koi ja rhe ho\n",
      "12/10/2024, 6:46 pm - +91 91743 47310: Dashara dekhne\n",
      "12/10/2024, 6:46 pm - +91 91743 47310: ???\n",
      "12/10/2024, 10:15 pm - +91 91743 47310: Vidio pic share kre\n",
      "12/10/2024, 10:15 pm - +91 91743 47310: Jinke pas h\n",
      "12/10/2024, 11:21 pm - +91 91743 47310: Daloge yr\n",
      "12/10/2024, 11:21 pm - +91 91743 47310: Jinke pas h wo\n",
      "12/10/2024, 11:23 pm - Monika Di Mahamaya: <Media omitted>\n",
      "12/10/2024, 11:24 pm - Monika Di Mahamaya: <Media omitted>\n",
      "12/10/2024, 11:25 pm - Monika Di Mahamaya: <Media omitted>\n",
      "12/10/2024, 11:25 pm - Monika Di Mahamaya: <Media omitted>\n",
      "12/10/2024, 11:31 pm - Happy Bahiya: <Media omitted>\n",
      "12/10/2024, 11:39 pm - Shalu Di Mahamaya: <Media omitted>\n",
      "12/10/2024, 11:39 pm - Shalu Di Mahamaya: <Media omitted>\n",
      "12/10/2024, 11:39 pm - Shalu Di Mahamaya: <Media omitted>\n",
      "12/10/2024, 11:39 pm - Shalu Di Mahamaya: <Media omitted>\n",
      "12/10/2024, 11:39 pm - Shalu Di Mahamaya: <Media omitted>\n",
      "12/10/2024, 11:54 pm - Shalu Di Mahamaya: <Media omitted>\n",
      "12/10/2024, 11:54 pm - Shalu Di Mahamaya: <Media omitted>\n",
      "12/10/2024, 11:54 pm - Shalu Di Mahamaya: <Media omitted>\n",
      "12/10/2024, 11:54 pm - Shalu Di Mahamaya: <Media omitted>\n",
      "12/10/2024, 11:54 pm - Shalu Di Mahamaya: <Media omitted>\n",
      "12/10/2024, 11:54 pm - Shalu Di Mahamaya: <Media omitted>\n",
      "12/10/2024, 11:54 pm - Shalu Di Mahamaya: <Media omitted>\n",
      "12/10/2024, 11:54 pm - Shalu Di Mahamaya: <Media omitted>\n",
      "12/10/2024, 11:54 pm - Shalu Di Mahamaya: <Media omitted>\n",
      "01/11/2024, 6:36 pm - +91 91743 47310: Chief kon h 😁\n",
      "01/11/2024, 6:36 pm - Monika Di Mahamaya: Jala lo\n",
      "01/11/2024, 6:39 pm - Happy Bahiya: Isshu the great\n",
      "01/11/2024, 6:40 pm - Happy Bahiya: Jldhie aao\n",
      "01/11/2024, 6:41 pm - +91 91743 47310: Enjoy me kuchh to kmi rh hoga 🤭\n",
      "01/11/2024, 6:41 pm - Happy Bahiya: Areee\n",
      "01/11/2024, 6:42 pm - +91 91743 47310: To baki sb log ko bhi le jana th n yr\n",
      "01/11/2024, 6:43 pm - Happy Bahiya: 🙏🤐\n",
      "01/11/2024, 6:43 pm - Happy Bahiya: Bhiya\n",
      "01/11/2024, 6:44 pm - +91 91743 47310: Kya hua\n",
      "01/11/2024, 6:44 pm - +91 91743 47310: Ap kawardha ghumne\n",
      "01/11/2024, 6:45 pm - Happy Bahiya: Aata hu ruko\n",
      "01/11/2024, 6:45 pm - +91 91743 47310: Ao*\n",
      "01/11/2024, 6:45 pm - Happy Bahiya: Kb aare ho aap bhiya\n",
      "01/11/2024, 6:54 pm - +91 91743 47310: Bhai dooj ke bad\n",
      "01/11/2024, 7:24 pm - ~ Abhash Varshney added Bhaiii (Ishu) and ~ Hishank\n",
      "01/11/2024, 7:52 pm - Shalu Di Mahamaya: This message was deleted\n",
      "01/11/2024, 8:23 pm - Anjali Di Mahamaya: Inlog kabhi le ke ni jate hmlog ko\n",
      "01/11/2024, 9:52 pm - +91 91096 63182: <Media omitted>\n",
      "01/11/2024, 9:52 pm - +91 91096 63182: <Media omitted>\n",
      "01/11/2024, 9:52 pm - +91 91096 63182: <Media omitted>\n",
      "01/11/2024, 9:52 pm - +91 91096 63182: <Media omitted>\n",
      "01/11/2024, 9:52 pm - +91 91096 63182: <Media omitted>\n",
      "01/11/2024, 9:52 pm - +91 91096 63182: <Media omitted>\n",
      "01/11/2024, 9:52 pm - +91 91096 63182: <Media omitted>\n",
      "01/11/2024, 9:52 pm - +91 91096 63182: <Media omitted>\n",
      "01/11/2024, 9:52 pm - +91 91096 63182: <Media omitted>\n",
      "01/11/2024, 9:52 pm - +91 91096 63182: <Media omitted>\n",
      "01/11/2024, 9:52 pm - +91 91096 63182: <Media omitted>\n",
      "01/11/2024, 9:52 pm - +91 91096 63182: <Media omitted>\n",
      "01/11/2024, 9:52 pm - +91 91096 63182: <Media omitted>\n",
      "01/11/2024, 9:52 pm - +91 91096 63182: <Media omitted>\n",
      "01/11/2024, 9:52 pm - +91 91096 63182: <Media omitted>\n",
      "01/11/2024, 9:52 pm - +91 91096 63182: <Media omitted>\n",
      "01/11/2024, 9:52 pm - +91 91096 63182: <Media omitted>\n",
      "01/11/2024, 9:52 pm - +91 91096 63182: <Media omitted>\n",
      "01/11/2024, 9:52 pm - +91 91096 63182: <Media omitted>\n",
      "01/11/2024, 9:52 pm - +91 91096 63182: <Media omitted>\n",
      "01/11/2024, 9:52 pm - +91 91096 63182: <Media omitted>\n",
      "01/11/2024, 9:52 pm - +91 91096 63182: <Media omitted>\n",
      "01/11/2024, 9:52 pm - +91 91096 63182: <Media omitted>\n",
      "01/11/2024, 9:52 pm - +91 91096 63182: <Media omitted>\n",
      "01/11/2024, 9:52 pm - +91 91096 63182: <Media omitted>\n",
      "01/11/2024, 9:52 pm - +91 91096 63182: <Media omitted>\n",
      "01/11/2024, 9:52 pm - +91 91096 63182: <Media omitted>\n",
      "01/11/2024, 9:52 pm - +91 91096 63182: <Media omitted>\n",
      "01/11/2024, 9:52 pm - +91 91096 63182: <Media omitted>\n",
      "01/11/2024, 9:52 pm - +91 91096 63182: <Media omitted>\n",
      "01/11/2024, 9:52 pm - +91 91096 63182: <Media omitted>\n",
      "01/11/2024, 9:52 pm - +91 91096 63182: <Media omitted>\n",
      "01/11/2024, 9:52 pm - +91 91096 63182: <Media omitted>\n",
      "01/11/2024, 9:52 pm - +91 91096 63182: <Media omitted>\n",
      "01/11/2024, 9:52 pm - +91 91096 63182: <Media omitted>\n",
      "01/11/2024, 9:52 pm - +91 91096 63182: <Media omitted>\n",
      "01/11/2024, 9:52 pm - +91 91096 63182: <Media omitted>\n",
      "01/11/2024, 9:52 pm - +91 91096 63182: <Media omitted>\n",
      "01/11/2024, 9:52 pm - +91 91096 63182: <Media omitted>\n",
      "01/11/2024, 9:52 pm - +91 91096 63182: <Media omitted>\n",
      "01/11/2024, 9:53 pm - +91 91096 63182: <Media omitted>\n",
      "01/11/2024, 9:53 pm - +91 91096 63182: <Media omitted>\n",
      "01/11/2024, 9:53 pm - +91 91096 63182: <Media omitted>\n",
      "01/11/2024, 9:54 pm - +91 91096 63182: <Media omitted>\n",
      "01/11/2024, 9:54 pm - +91 91096 63182: <Media omitted>\n",
      "01/11/2024, 9:54 pm - +91 91096 63182: <Media omitted>\n",
      "01/11/2024, 9:54 pm - +91 91096 63182: <Media omitted>\n",
      "01/11/2024, 9:54 pm - +91 91096 63182: <Media omitted>\n",
      "01/11/2024, 9:54 pm - +91 91096 63182: <Media omitted>\n",
      "01/11/2024, 9:54 pm - +91 91096 63182: <Media omitted>\n",
      "01/11/2024, 9:54 pm - +91 91096 63182: <Media omitted>\n",
      "01/11/2024, 9:54 pm - +91 91096 63182: <Media omitted>\n",
      "01/11/2024, 9:54 pm - +91 91096 63182: <Media omitted>\n",
      "01/11/2024, 9:54 pm - +91 91096 63182: <Media omitted>\n",
      "01/11/2024, 9:54 pm - +91 91096 63182: <Media omitted>\n",
      "01/11/2024, 9:54 pm - +91 91096 63182: <Media omitted>\n",
      "01/11/2024, 9:54 pm - +91 91096 63182: <Media omitted>\n",
      "01/11/2024, 9:54 pm - +91 91096 63182: <Media omitted>\n",
      "01/11/2024, 9:54 pm - +91 91096 63182: <Media omitted>\n",
      "01/11/2024, 9:54 pm - +91 91096 63182: <Media omitted>\n",
      "01/11/2024, 9:54 pm - +91 91096 63182: <Media omitted>\n",
      "01/11/2024, 9:54 pm - +91 91096 63182: <Media omitted>\n",
      "01/11/2024, 9:54 pm - +91 91096 63182: <Media omitted>\n",
      "01/11/2024, 9:54 pm - +91 91096 63182: <Media omitted>\n",
      "01/11/2024, 9:54 pm - +91 91096 63182: <Media omitted>\n",
      "01/11/2024, 9:55 pm - +91 91096 63182: <Media omitted>\n",
      "01/11/2024, 9:55 pm - +91 91096 63182: <Media omitted>\n",
      "01/11/2024, 9:55 pm - +91 91096 63182: <Media omitted>\n",
      "15/12/2024, 11:45 pm - Monika Di Mahamaya: Aaj k photos bhej do doston\n",
      "15/12/2024, 11:46 pm - +91 91743 47310: <Media omitted>\n",
      "15/12/2024, 11:46 pm - +91 91743 47310: <Media omitted>\n",
      "15/12/2024, 11:46 pm - +91 91743 47310: <Media omitted>\n",
      "15/12/2024, 11:46 pm - +91 91743 47310: <Media omitted>\n",
      "15/12/2024, 11:46 pm - +91 91743 47310: <Media omitted>\n",
      "15/12/2024, 11:46 pm - +91 91743 47310: <Media omitted>\n",
      "15/12/2024, 11:46 pm - +91 91743 47310: <Media omitted>\n",
      "15/12/2024, 11:46 pm - +91 91743 47310: <Media omitted>\n",
      "15/12/2024, 11:46 pm - +91 91743 47310: <Media omitted>\n",
      "15/12/2024, 11:46 pm - +91 91743 47310: <Media omitted>\n",
      "15/12/2024, 11:46 pm - +91 91743 47310: <Media omitted>\n",
      "15/12/2024, 11:46 pm - +91 91743 47310: <Media omitted>\n",
      "15/12/2024, 11:47 pm - Happy Bahiya: Yeh glth bt h\n",
      "15/12/2024, 11:56 pm - +91 94790 41304: <Media omitted>\n",
      "15/12/2024, 11:57 pm - Happy Bahiya: <Media omitted>\n",
      "16/12/2024, 5:38 pm - +91 91096 63182: <Media omitted>\n",
      "16/12/2024, 5:38 pm - +91 91096 63182: <Media omitted>\n",
      "16/12/2024, 5:38 pm - +91 91096 63182: <Media omitted>\n",
      "16/12/2024, 5:38 pm - +91 91096 63182: <Media omitted>\n",
      "16/12/2024, 5:38 pm - +91 91096 63182: <Media omitted>\n",
      "16/12/2024, 5:38 pm - +91 91096 63182: <Media omitted>\n",
      "16/12/2024, 5:38 pm - +91 91096 63182: <Media omitted>\n",
      "16/12/2024, 5:38 pm - +91 91096 63182: <Media omitted>\n",
      "16/12/2024, 5:38 pm - +91 91096 63182: <Media omitted>\n",
      "16/12/2024, 5:38 pm - +91 91096 63182: <Media omitted>\n",
      "16/12/2024, 5:38 pm - +91 91096 63182: <Media omitted>\n",
      "16/12/2024, 5:40 pm - +91 91096 63182: <Media omitted>\n",
      "\n"
     ]
    }
   ],
   "source": [
    "print(data)"
   ]
  },
  {
   "cell_type": "code",
   "execution_count": 88,
   "metadata": {},
   "outputs": [],
   "source": [
    "pattern = r'\\d{2}/\\d{2}/\\d{4},\\s\\d{1,2}:\\d{2}\\s?[apAP][mM]\\s-\\s'"
   ]
  },
  {
   "cell_type": "code",
   "execution_count": 89,
   "metadata": {},
   "outputs": [],
   "source": [
    "messages=re.split(pattern, data)[1:]\n"
   ]
  },
  {
   "cell_type": "code",
   "execution_count": 90,
   "metadata": {},
   "outputs": [],
   "source": [
    "dates=re.findall(pattern, data)\n"
   ]
  },
  {
   "cell_type": "code",
   "execution_count": 91,
   "metadata": {},
   "outputs": [
    {
     "data": {
      "text/html": [
       "<div>\n",
       "<style scoped>\n",
       "    .dataframe tbody tr th:only-of-type {\n",
       "        vertical-align: middle;\n",
       "    }\n",
       "\n",
       "    .dataframe tbody tr th {\n",
       "        vertical-align: top;\n",
       "    }\n",
       "\n",
       "    .dataframe thead th {\n",
       "        text-align: right;\n",
       "    }\n",
       "</style>\n",
       "<table border=\"1\" class=\"dataframe\">\n",
       "  <thead>\n",
       "    <tr style=\"text-align: right;\">\n",
       "      <th></th>\n",
       "      <th>user_message</th>\n",
       "      <th>date</th>\n",
       "    </tr>\n",
       "  </thead>\n",
       "  <tbody>\n",
       "    <tr>\n",
       "      <th>0</th>\n",
       "      <td>Messages and calls are end-to-end encrypted. N...</td>\n",
       "      <td>2024-10-11 19:06:00</td>\n",
       "    </tr>\n",
       "    <tr>\n",
       "      <th>1</th>\n",
       "      <td>~ Abhash Varshney created group \"Naila Navratr...</td>\n",
       "      <td>2024-10-11 19:06:00</td>\n",
       "    </tr>\n",
       "    <tr>\n",
       "      <th>2</th>\n",
       "      <td>~ Abhash Varshney added you\\n</td>\n",
       "      <td>2024-10-11 19:06:00</td>\n",
       "    </tr>\n",
       "    <tr>\n",
       "      <th>3</th>\n",
       "      <td>Anjali Di Mahamaya: Acha\\n</td>\n",
       "      <td>2024-10-11 19:06:00</td>\n",
       "    </tr>\n",
       "    <tr>\n",
       "      <th>4</th>\n",
       "      <td>Shalu Di Mahamaya: Are hum nhi gye h 😳😳\\n</td>\n",
       "      <td>2024-10-11 19:06:00</td>\n",
       "    </tr>\n",
       "  </tbody>\n",
       "</table>\n",
       "</div>"
      ],
      "text/plain": [
       "                                        user_message                date\n",
       "0  Messages and calls are end-to-end encrypted. N... 2024-10-11 19:06:00\n",
       "1  ~ Abhash Varshney created group \"Naila Navratr... 2024-10-11 19:06:00\n",
       "2                      ~ Abhash Varshney added you\\n 2024-10-11 19:06:00\n",
       "3                         Anjali Di Mahamaya: Acha\\n 2024-10-11 19:06:00\n",
       "4          Shalu Di Mahamaya: Are hum nhi gye h 😳😳\\n 2024-10-11 19:06:00"
      ]
     },
     "execution_count": 91,
     "metadata": {},
     "output_type": "execute_result"
    }
   ],
   "source": [
    "df=pd.DataFrame({ 'user_message':messages,'message_date':dates})\n",
    "df['message_date']=pd.to_datetime(df['message_date'], format='%d/%m/%Y, %I:%M %p - ')\n",
    "df.rename(columns={'message_date':'date'}, inplace=True)\n",
    "\n",
    "df.head()"
   ]
  },
  {
   "cell_type": "code",
   "execution_count": 92,
   "metadata": {},
   "outputs": [
    {
     "data": {
      "text/plain": [
       "(243, 2)"
      ]
     },
     "execution_count": 92,
     "metadata": {},
     "output_type": "execute_result"
    }
   ],
   "source": [
    "df.shape"
   ]
  },
  {
   "cell_type": "code",
   "execution_count": 93,
   "metadata": {},
   "outputs": [
    {
     "data": {
      "text/html": [
       "<div>\n",
       "<style scoped>\n",
       "    .dataframe tbody tr th:only-of-type {\n",
       "        vertical-align: middle;\n",
       "    }\n",
       "\n",
       "    .dataframe tbody tr th {\n",
       "        vertical-align: top;\n",
       "    }\n",
       "\n",
       "    .dataframe thead th {\n",
       "        text-align: right;\n",
       "    }\n",
       "</style>\n",
       "<table border=\"1\" class=\"dataframe\">\n",
       "  <thead>\n",
       "    <tr style=\"text-align: right;\">\n",
       "      <th></th>\n",
       "      <th>date</th>\n",
       "      <th>user</th>\n",
       "      <th>message</th>\n",
       "    </tr>\n",
       "  </thead>\n",
       "  <tbody>\n",
       "    <tr>\n",
       "      <th>0</th>\n",
       "      <td>2024-10-11 19:06:00</td>\n",
       "      <td>group_notification</td>\n",
       "      <td>Messages and calls are end-to-end encrypted. N...</td>\n",
       "    </tr>\n",
       "    <tr>\n",
       "      <th>1</th>\n",
       "      <td>2024-10-11 19:06:00</td>\n",
       "      <td>group_notification</td>\n",
       "      <td>~ Abhash Varshney created group \"Naila Navratr...</td>\n",
       "    </tr>\n",
       "    <tr>\n",
       "      <th>2</th>\n",
       "      <td>2024-10-11 19:06:00</td>\n",
       "      <td>group_notification</td>\n",
       "      <td>~ Abhash Varshney added you\\n</td>\n",
       "    </tr>\n",
       "    <tr>\n",
       "      <th>3</th>\n",
       "      <td>2024-10-11 19:06:00</td>\n",
       "      <td>Anjali Di Mahamaya</td>\n",
       "      <td>Acha\\n</td>\n",
       "    </tr>\n",
       "    <tr>\n",
       "      <th>4</th>\n",
       "      <td>2024-10-11 19:06:00</td>\n",
       "      <td>Shalu Di Mahamaya</td>\n",
       "      <td>Are hum nhi gye h 😳😳\\n</td>\n",
       "    </tr>\n",
       "  </tbody>\n",
       "</table>\n",
       "</div>"
      ],
      "text/plain": [
       "                 date                user  \\\n",
       "0 2024-10-11 19:06:00  group_notification   \n",
       "1 2024-10-11 19:06:00  group_notification   \n",
       "2 2024-10-11 19:06:00  group_notification   \n",
       "3 2024-10-11 19:06:00  Anjali Di Mahamaya   \n",
       "4 2024-10-11 19:06:00   Shalu Di Mahamaya   \n",
       "\n",
       "                                             message  \n",
       "0  Messages and calls are end-to-end encrypted. N...  \n",
       "1  ~ Abhash Varshney created group \"Naila Navratr...  \n",
       "2                      ~ Abhash Varshney added you\\n  \n",
       "3                                             Acha\\n  \n",
       "4                             Are hum nhi gye h 😳😳\\n  "
      ]
     },
     "execution_count": 93,
     "metadata": {},
     "output_type": "execute_result"
    }
   ],
   "source": [
    "users=[]\n",
    "messages=[]\n",
    "for message in df['user_message']:\n",
    "    entry=re.split('([\\w\\W]+?):\\s',message)\n",
    "    if entry[1: ]:\n",
    "        users.append(entry[1])\n",
    "        messages.append(entry[2])\n",
    "    else:\n",
    "        users.append('group_notification')\n",
    "        messages.append(entry[0])\n",
    "df['user']=users\n",
    "df['message']=messages\n",
    "df.drop(columns=['user_message'], inplace=True)\n",
    "\n",
    "df.head()"
   ]
  },
  {
   "cell_type": "code",
   "execution_count": 94,
   "metadata": {},
   "outputs": [],
   "source": [
    "df['year']=df['date'].dt.year"
   ]
  },
  {
   "cell_type": "code",
   "execution_count": 95,
   "metadata": {},
   "outputs": [],
   "source": [
    "df['month']=df['date'].dt.month_name()"
   ]
  },
  {
   "cell_type": "code",
   "execution_count": 96,
   "metadata": {},
   "outputs": [],
   "source": [
    "df['day']=df['date'].dt.day"
   ]
  },
  {
   "cell_type": "code",
   "execution_count": 97,
   "metadata": {},
   "outputs": [],
   "source": [
    "df['hour']=df['date'].dt.hour"
   ]
  },
  {
   "cell_type": "code",
   "execution_count": 98,
   "metadata": {},
   "outputs": [],
   "source": [
    "df['minute']=df['date'].dt.minute"
   ]
  },
  {
   "cell_type": "code",
   "execution_count": 99,
   "metadata": {},
   "outputs": [
    {
     "data": {
      "text/html": [
       "<div>\n",
       "<style scoped>\n",
       "    .dataframe tbody tr th:only-of-type {\n",
       "        vertical-align: middle;\n",
       "    }\n",
       "\n",
       "    .dataframe tbody tr th {\n",
       "        vertical-align: top;\n",
       "    }\n",
       "\n",
       "    .dataframe thead th {\n",
       "        text-align: right;\n",
       "    }\n",
       "</style>\n",
       "<table border=\"1\" class=\"dataframe\">\n",
       "  <thead>\n",
       "    <tr style=\"text-align: right;\">\n",
       "      <th></th>\n",
       "      <th>date</th>\n",
       "      <th>user</th>\n",
       "      <th>message</th>\n",
       "      <th>year</th>\n",
       "      <th>month</th>\n",
       "      <th>day</th>\n",
       "      <th>hour</th>\n",
       "      <th>minute</th>\n",
       "    </tr>\n",
       "  </thead>\n",
       "  <tbody>\n",
       "    <tr>\n",
       "      <th>0</th>\n",
       "      <td>2024-10-11 19:06:00</td>\n",
       "      <td>group_notification</td>\n",
       "      <td>Messages and calls are end-to-end encrypted. N...</td>\n",
       "      <td>2024</td>\n",
       "      <td>October</td>\n",
       "      <td>11</td>\n",
       "      <td>19</td>\n",
       "      <td>6</td>\n",
       "    </tr>\n",
       "    <tr>\n",
       "      <th>1</th>\n",
       "      <td>2024-10-11 19:06:00</td>\n",
       "      <td>group_notification</td>\n",
       "      <td>~ Abhash Varshney created group \"Naila Navratr...</td>\n",
       "      <td>2024</td>\n",
       "      <td>October</td>\n",
       "      <td>11</td>\n",
       "      <td>19</td>\n",
       "      <td>6</td>\n",
       "    </tr>\n",
       "    <tr>\n",
       "      <th>2</th>\n",
       "      <td>2024-10-11 19:06:00</td>\n",
       "      <td>group_notification</td>\n",
       "      <td>~ Abhash Varshney added you\\n</td>\n",
       "      <td>2024</td>\n",
       "      <td>October</td>\n",
       "      <td>11</td>\n",
       "      <td>19</td>\n",
       "      <td>6</td>\n",
       "    </tr>\n",
       "    <tr>\n",
       "      <th>3</th>\n",
       "      <td>2024-10-11 19:06:00</td>\n",
       "      <td>Anjali Di Mahamaya</td>\n",
       "      <td>Acha\\n</td>\n",
       "      <td>2024</td>\n",
       "      <td>October</td>\n",
       "      <td>11</td>\n",
       "      <td>19</td>\n",
       "      <td>6</td>\n",
       "    </tr>\n",
       "    <tr>\n",
       "      <th>4</th>\n",
       "      <td>2024-10-11 19:06:00</td>\n",
       "      <td>Shalu Di Mahamaya</td>\n",
       "      <td>Are hum nhi gye h 😳😳\\n</td>\n",
       "      <td>2024</td>\n",
       "      <td>October</td>\n",
       "      <td>11</td>\n",
       "      <td>19</td>\n",
       "      <td>6</td>\n",
       "    </tr>\n",
       "  </tbody>\n",
       "</table>\n",
       "</div>"
      ],
      "text/plain": [
       "                 date                user  \\\n",
       "0 2024-10-11 19:06:00  group_notification   \n",
       "1 2024-10-11 19:06:00  group_notification   \n",
       "2 2024-10-11 19:06:00  group_notification   \n",
       "3 2024-10-11 19:06:00  Anjali Di Mahamaya   \n",
       "4 2024-10-11 19:06:00   Shalu Di Mahamaya   \n",
       "\n",
       "                                             message  year    month  day  \\\n",
       "0  Messages and calls are end-to-end encrypted. N...  2024  October   11   \n",
       "1  ~ Abhash Varshney created group \"Naila Navratr...  2024  October   11   \n",
       "2                      ~ Abhash Varshney added you\\n  2024  October   11   \n",
       "3                                             Acha\\n  2024  October   11   \n",
       "4                             Are hum nhi gye h 😳😳\\n  2024  October   11   \n",
       "\n",
       "   hour  minute  \n",
       "0    19       6  \n",
       "1    19       6  \n",
       "2    19       6  \n",
       "3    19       6  \n",
       "4    19       6  "
      ]
     },
     "execution_count": 99,
     "metadata": {},
     "output_type": "execute_result"
    }
   ],
   "source": [
    "df.head()"
   ]
  },
  {
   "cell_type": "code",
   "execution_count": 100,
   "metadata": {},
   "outputs": [
    {
     "data": {
      "text/plain": [
       "(29, 8)"
      ]
     },
     "execution_count": 100,
     "metadata": {},
     "output_type": "execute_result"
    }
   ],
   "source": [
    "df[df['user']=='Shalu Di Mahamaya'].shape"
   ]
  },
  {
   "cell_type": "code",
   "execution_count": 101,
   "metadata": {},
   "outputs": [],
   "source": [
    "words=[]\n",
    "for message in df['message']:\n",
    "    words.extend(message.split())"
   ]
  },
  {
   "cell_type": "code",
   "execution_count": 102,
   "metadata": {},
   "outputs": [
    {
     "data": {
      "text/plain": [
       "682"
      ]
     },
     "execution_count": 102,
     "metadata": {},
     "output_type": "execute_result"
    }
   ],
   "source": [
    "len(words)"
   ]
  },
  {
   "cell_type": "code",
   "execution_count": 103,
   "metadata": {},
   "outputs": [
    {
     "name": "stdout",
     "output_type": "stream",
     "text": [
      "c:\\Users\\Asus\\AppData\\Local\\Programs\\Python\\Python311\\python.exe\n"
     ]
    }
   ],
   "source": [
    "import sys\n",
    "print(sys.executable)\n"
   ]
  },
  {
   "cell_type": "code",
   "execution_count": 104,
   "metadata": {},
   "outputs": [
    {
     "name": "stdout",
     "output_type": "stream",
     "text": [
      "['www.google.com']\n"
     ]
    }
   ],
   "source": [
    "from urlextract import URLExtract\n",
    "\n",
    "extractor = URLExtract()\n",
    "urls = extractor.find_urls(\"www.google.com is a great search engine\")\n",
    "print(urls)\n"
   ]
  },
  {
   "cell_type": "code",
   "execution_count": 105,
   "metadata": {},
   "outputs": [],
   "source": [
    "links=[]\n",
    "for message in df['message']:\n",
    "    links.extend(extractor.find_urls(message))"
   ]
  },
  {
   "cell_type": "code",
   "execution_count": 106,
   "metadata": {},
   "outputs": [
    {
     "name": "stdout",
     "output_type": "stream",
     "text": [
      "0\n"
     ]
    }
   ],
   "source": [
    "print(len(links))"
   ]
  },
  {
   "cell_type": "code",
   "execution_count": 107,
   "metadata": {},
   "outputs": [
    {
     "data": {
      "text/html": [
       "<div>\n",
       "<style scoped>\n",
       "    .dataframe tbody tr th:only-of-type {\n",
       "        vertical-align: middle;\n",
       "    }\n",
       "\n",
       "    .dataframe tbody tr th {\n",
       "        vertical-align: top;\n",
       "    }\n",
       "\n",
       "    .dataframe thead th {\n",
       "        text-align: right;\n",
       "    }\n",
       "</style>\n",
       "<table border=\"1\" class=\"dataframe\">\n",
       "  <thead>\n",
       "    <tr style=\"text-align: right;\">\n",
       "      <th></th>\n",
       "      <th>date</th>\n",
       "      <th>user</th>\n",
       "      <th>message</th>\n",
       "      <th>year</th>\n",
       "      <th>month</th>\n",
       "      <th>day</th>\n",
       "      <th>hour</th>\n",
       "      <th>minute</th>\n",
       "    </tr>\n",
       "  </thead>\n",
       "  <tbody>\n",
       "    <tr>\n",
       "      <th>0</th>\n",
       "      <td>2024-10-11 19:06:00</td>\n",
       "      <td>group_notification</td>\n",
       "      <td>Messages and calls are end-to-end encrypted. N...</td>\n",
       "      <td>2024</td>\n",
       "      <td>October</td>\n",
       "      <td>11</td>\n",
       "      <td>19</td>\n",
       "      <td>6</td>\n",
       "    </tr>\n",
       "    <tr>\n",
       "      <th>1</th>\n",
       "      <td>2024-10-11 19:06:00</td>\n",
       "      <td>group_notification</td>\n",
       "      <td>~ Abhash Varshney created group \"Naila Navratr...</td>\n",
       "      <td>2024</td>\n",
       "      <td>October</td>\n",
       "      <td>11</td>\n",
       "      <td>19</td>\n",
       "      <td>6</td>\n",
       "    </tr>\n",
       "    <tr>\n",
       "      <th>2</th>\n",
       "      <td>2024-10-11 19:06:00</td>\n",
       "      <td>group_notification</td>\n",
       "      <td>~ Abhash Varshney added you\\n</td>\n",
       "      <td>2024</td>\n",
       "      <td>October</td>\n",
       "      <td>11</td>\n",
       "      <td>19</td>\n",
       "      <td>6</td>\n",
       "    </tr>\n",
       "    <tr>\n",
       "      <th>3</th>\n",
       "      <td>2024-10-11 19:06:00</td>\n",
       "      <td>Anjali Di Mahamaya</td>\n",
       "      <td>Acha\\n</td>\n",
       "      <td>2024</td>\n",
       "      <td>October</td>\n",
       "      <td>11</td>\n",
       "      <td>19</td>\n",
       "      <td>6</td>\n",
       "    </tr>\n",
       "    <tr>\n",
       "      <th>4</th>\n",
       "      <td>2024-10-11 19:06:00</td>\n",
       "      <td>Shalu Di Mahamaya</td>\n",
       "      <td>Are hum nhi gye h 😳😳\\n</td>\n",
       "      <td>2024</td>\n",
       "      <td>October</td>\n",
       "      <td>11</td>\n",
       "      <td>19</td>\n",
       "      <td>6</td>\n",
       "    </tr>\n",
       "    <tr>\n",
       "      <th>...</th>\n",
       "      <td>...</td>\n",
       "      <td>...</td>\n",
       "      <td>...</td>\n",
       "      <td>...</td>\n",
       "      <td>...</td>\n",
       "      <td>...</td>\n",
       "      <td>...</td>\n",
       "      <td>...</td>\n",
       "    </tr>\n",
       "    <tr>\n",
       "      <th>238</th>\n",
       "      <td>2024-12-16 17:38:00</td>\n",
       "      <td>+91 91096 63182</td>\n",
       "      <td>&lt;Media omitted&gt;\\n</td>\n",
       "      <td>2024</td>\n",
       "      <td>December</td>\n",
       "      <td>16</td>\n",
       "      <td>17</td>\n",
       "      <td>38</td>\n",
       "    </tr>\n",
       "    <tr>\n",
       "      <th>239</th>\n",
       "      <td>2024-12-16 17:38:00</td>\n",
       "      <td>+91 91096 63182</td>\n",
       "      <td>&lt;Media omitted&gt;\\n</td>\n",
       "      <td>2024</td>\n",
       "      <td>December</td>\n",
       "      <td>16</td>\n",
       "      <td>17</td>\n",
       "      <td>38</td>\n",
       "    </tr>\n",
       "    <tr>\n",
       "      <th>240</th>\n",
       "      <td>2024-12-16 17:38:00</td>\n",
       "      <td>+91 91096 63182</td>\n",
       "      <td>&lt;Media omitted&gt;\\n</td>\n",
       "      <td>2024</td>\n",
       "      <td>December</td>\n",
       "      <td>16</td>\n",
       "      <td>17</td>\n",
       "      <td>38</td>\n",
       "    </tr>\n",
       "    <tr>\n",
       "      <th>241</th>\n",
       "      <td>2024-12-16 17:38:00</td>\n",
       "      <td>+91 91096 63182</td>\n",
       "      <td>&lt;Media omitted&gt;\\n</td>\n",
       "      <td>2024</td>\n",
       "      <td>December</td>\n",
       "      <td>16</td>\n",
       "      <td>17</td>\n",
       "      <td>38</td>\n",
       "    </tr>\n",
       "    <tr>\n",
       "      <th>242</th>\n",
       "      <td>2024-12-16 17:40:00</td>\n",
       "      <td>+91 91096 63182</td>\n",
       "      <td>&lt;Media omitted&gt;\\n</td>\n",
       "      <td>2024</td>\n",
       "      <td>December</td>\n",
       "      <td>16</td>\n",
       "      <td>17</td>\n",
       "      <td>40</td>\n",
       "    </tr>\n",
       "  </tbody>\n",
       "</table>\n",
       "<p>243 rows × 8 columns</p>\n",
       "</div>"
      ],
      "text/plain": [
       "                   date                user  \\\n",
       "0   2024-10-11 19:06:00  group_notification   \n",
       "1   2024-10-11 19:06:00  group_notification   \n",
       "2   2024-10-11 19:06:00  group_notification   \n",
       "3   2024-10-11 19:06:00  Anjali Di Mahamaya   \n",
       "4   2024-10-11 19:06:00   Shalu Di Mahamaya   \n",
       "..                  ...                 ...   \n",
       "238 2024-12-16 17:38:00     +91 91096 63182   \n",
       "239 2024-12-16 17:38:00     +91 91096 63182   \n",
       "240 2024-12-16 17:38:00     +91 91096 63182   \n",
       "241 2024-12-16 17:38:00     +91 91096 63182   \n",
       "242 2024-12-16 17:40:00     +91 91096 63182   \n",
       "\n",
       "                                               message  year     month  day  \\\n",
       "0    Messages and calls are end-to-end encrypted. N...  2024   October   11   \n",
       "1    ~ Abhash Varshney created group \"Naila Navratr...  2024   October   11   \n",
       "2                        ~ Abhash Varshney added you\\n  2024   October   11   \n",
       "3                                               Acha\\n  2024   October   11   \n",
       "4                               Are hum nhi gye h 😳😳\\n  2024   October   11   \n",
       "..                                                 ...   ...       ...  ...   \n",
       "238                                  <Media omitted>\\n  2024  December   16   \n",
       "239                                  <Media omitted>\\n  2024  December   16   \n",
       "240                                  <Media omitted>\\n  2024  December   16   \n",
       "241                                  <Media omitted>\\n  2024  December   16   \n",
       "242                                  <Media omitted>\\n  2024  December   16   \n",
       "\n",
       "     hour  minute  \n",
       "0      19       6  \n",
       "1      19       6  \n",
       "2      19       6  \n",
       "3      19       6  \n",
       "4      19       6  \n",
       "..    ...     ...  \n",
       "238    17      38  \n",
       "239    17      38  \n",
       "240    17      38  \n",
       "241    17      38  \n",
       "242    17      40  \n",
       "\n",
       "[243 rows x 8 columns]"
      ]
     },
     "execution_count": 107,
     "metadata": {},
     "output_type": "execute_result"
    }
   ],
   "source": [
    "df"
   ]
  },
  {
   "cell_type": "code",
   "execution_count": 108,
   "metadata": {},
   "outputs": [],
   "source": [
    "x=df['user'].value_counts().head()"
   ]
  },
  {
   "cell_type": "code",
   "execution_count": 109,
   "metadata": {},
   "outputs": [],
   "source": [
    "import matplotlib.pyplot as plt"
   ]
  },
  {
   "cell_type": "code",
   "execution_count": 110,
   "metadata": {},
   "outputs": [],
   "source": [
    "def most_busy_users(df):\n",
    "    if 'user' in df.columns:\n",
    "        user_counts = df['user'].value_counts()\n",
    "        return user_counts\n",
    "    else:\n",
    "        return None\n"
   ]
  },
  {
   "cell_type": "code",
   "execution_count": 81,
   "metadata": {},
   "outputs": [
    {
     "data": {
      "text/plain": [
       "([0, 1, 2, 3, 4],\n",
       " [Text(0, 0, '+91 91096 63182'),\n",
       "  Text(1, 0, 'Happy Bahiya'),\n",
       "  Text(2, 0, '+91 91743 47310'),\n",
       "  Text(3, 0, 'Shalu Di Mahamaya'),\n",
       "  Text(4, 0, 'Monika Di Mahamaya')])"
      ]
     },
     "execution_count": 81,
     "metadata": {},
     "output_type": "execute_result"
    },
    {
     "data": {
      "image/png": "[encoded data removed]",
      "text/plain": [
       "<Figure size 640x480 with 1 Axes>"
      ]
     },
     "metadata": {},
     "output_type": "display_data"
    }
   ],
   "source": [
    "name=x.index\n",
    "count=x.values\n",
    "plt.bar(name,count)\n",
    "plt.xticks(rotation=\"vertical\" )"
   ]
  },
  {
   "cell_type": "code",
   "execution_count": null,
   "metadata": {},
   "outputs": [],
   "source": []
  }
 ],
 "metadata": {
  "kernelspec": {
   "display_name": "Python 3",
   "language": "python",
   "name": "python3"
  },
  "language_info": {
   "codemirror_mode": {
    "name": "ipython",
    "version": 3
   },
   "file_extension": ".py",
   "mimetype": "text/x-python",
   "name": "python",
   "nbconvert_exporter": "python",
   "pygments_lexer": "ipython3",
   "version": "3.11.3"
  }
 },
 "nbformat": 4,
 "nbformat_minor": 2
}
