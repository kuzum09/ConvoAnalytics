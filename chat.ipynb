{
 "cells": [
  {
   "cell_type": "code",
   "execution_count": 46,
   "metadata": {},
   "outputs": [],
   "source": [
    "import re\n",
    "import pandas as pd"
   ]
  },
  {
   "cell_type": "code",
   "execution_count": 47,
   "metadata": {},
   "outputs": [],
   "source": [
    "f=open('WhatsApp Chat with Naila Navratri🔥 💐🎈🌹🔥\\WhatsApp Chat with Naila Navratri🔥 💐🎈🌹🔥.txt', 'r', encoding='utf8')"
   ]
  },
  {
   "cell_type": "code",
   "execution_count": 48,
   "metadata": {},
   "outputs": [],
   "source": [
    "data=f.read()"
   ]
  },
  {
   "cell_type": "code",
   "execution_count": 49,
   "metadata": {},
   "outputs": [
    {
     "name": "stdout",
     "output_type": "stream",
     "text": [
      "11/10/2024, 7:06 pm - Messages and calls are end-to-end encrypted. No one outside of this chat, not even WhatsApp, can read or listen to them. Tap to learn more.\n",
      "11/10/2024, 7:06 pm - ~ Abhash Varshney created group \"Naila Navratri🔥 💐🎈🌹🔥\"\n",
      "11/10/2024, 7:06 pm - ~ Abhash Varshney added you\n",
      "11/10/2024, 7:06 pm - Anjali Di Mahamaya: Acha\n",
      "11/10/2024, 7:06 pm - Shalu Di Mahamaya: Are hum nhi gye h 😳😳\n",
      "11/10/2024, 7:07 pm - Anjali Di Mahamaya: Ye group bna h naila k liye\n",
      "11/10/2024, 7:07 pm - Anjali Di Mahamaya: Or hum ghar me baithe h\n",
      "11/10/2024, 7:07 pm - Shalu Di Mahamaya: 🤣🤣🤣🤣\n",
      "11/10/2024, 7:07 pm - Kusum: 🤣🤣🤣\n",
      "11/10/2024, 7:07 pm - Shalu Di Mahamaya: Janbujh ke ye sab ho raha h\n",
      "11/10/2024, 7:07 pm - +91 99269 15696: Light show chlega tb video call krta hu\n",
      "11/10/2024, 7:07 pm - Kusum: group main video call karenge shyd\n",
      "11/10/2024, 7:07 pm - Anjali Di Mahamaya: Acha acha\n",
      "11/10/2024, 7:07 pm - Anjali Di Mahamaya: Khaogar to bhi kr lena fr\n",
      "11/10/2024, 7:08 pm - +91 99269 15696: Dekhna 😍\n",
      "11/10/2024, 7:08 pm - Anjali Di Mahamaya: Kr lenge guyss join\n",
      "11/10/2024, 7:08 pm - Kusum: <Media omitted>\n",
      "11/10/2024, 7:08 pm - Anjali Di Mahamaya: Monika Darling.vcf (file attached)\n",
      "11/10/2024, 7:08 pm - +91 91743 47310: Mobile me hi phuch jaoge\n",
      "11/10/2024, 7:08 pm - +91 91743 47310: Don't worry\n",
      "11/10/2024, 7:08 pm - Anjali Di Mahamaya: Add krdo Monika didi ko bhi\n",
      "11/10/2024, 7:09 pm - Anjali Di Mahamaya: Apna network sahi jagah set krk rakhna\n",
      "11/10/2024, 7:09 pm - +91 99269 15696: ??\n",
      "11/10/2024, 7:09 pm - Anjali Di Mahamaya: Hum bhi jayenge Baleno me\n",
      "11/10/2024, 7:10 pm - +91 91743 47310: Okk\n",
      "11/10/2024, 7:10 pm - +91 91743 47310: 😜\n",
      "11/10/2024, 7:10 pm - +91 91743 47310: Jldi ao\n",
      "11/10/2024, 7:10 pm - Anjali Di Mahamaya: Kya khaoge woh bhi dikha dena\n",
      "11/10/2024, 7:10 pm - Anjali Di Mahamaya: Sb me video cl chaiye hume\n",
      "11/10/2024, 7:10 pm - Shalu Di Mahamaya: Anjali dee aisi hi pet bhar legi dekh ke\n",
      "11/10/2024, 7:10 pm - Anjali Di Mahamaya: 🤣\n",
      "11/10/2024, 7:11 pm - +91 91743 47310: null\n",
      "11/10/2024, 7:11 pm - Anjali Di Mahamaya: Num addd krdo guyss\n",
      "11/10/2024, 7:13 pm - +91 91743 47310: Network slow h yr bhid ke karn\n",
      "11/10/2024, 7:13 pm - Happy Bahiya: <Media omitted>\n",
      "11/10/2024, 7:13 pm - Happy Bahiya: <Media omitted>\n",
      "11/10/2024, 7:15 pm - Happy Bahiya: <Media omitted>\n",
      "11/10/2024, 7:16 pm - ~ Abhash Varshney added Monika Di Mahamaya\n",
      "11/10/2024, 7:16 pm - +91 91743 47310: Connecting ni ho rh\n",
      "11/10/2024, 7:17 pm - Monika Di Mahamaya: Dhanyawad doston...m aa gayi hu🤣\n",
      "11/10/2024, 7:17 pm - Shalu Di Mahamaya: Thoda late ho gya🤣🤣\n",
      "11/10/2024, 7:18 pm - Monika Di Mahamaya: Wahi😂\n",
      "11/10/2024, 7:18 pm - Monika Di Mahamaya: Sabke liye mele se khilona laana\n",
      "11/10/2024, 7:19 pm - Shalu Di Mahamaya: Wo sirf jhonty hi liya h apni bhn ke liye\n",
      "11/10/2024, 7:19 pm - Happy Bahiya: Ky bolti public\n",
      "11/10/2024, 7:20 pm - Kusum: khilone wali bullet\n",
      "11/10/2024, 7:20 pm - Shalu Di Mahamaya: Yeeeee......\n",
      "11/10/2024, 7:20 pm - Shalu Di Mahamaya: Ab jhonty ko uski jrurt nhi h\n",
      "11/10/2024, 7:21 pm - Happy Bahiya: <Media omitted>\n",
      "11/10/2024, 7:22 pm - Happy Bahiya: <Media omitted>\n",
      "11/10/2024, 7:22 pm - Happy Bahiya: <Media omitted>\n",
      "11/10/2024, 7:22 pm - Happy Bahiya: <Media omitted>\n",
      "11/10/2024, 7:22 pm - Happy Bahiya: <Media omitted>\n",
      "11/10/2024, 7:22 pm - Happy Bahiya: <Media omitted>\n",
      "11/10/2024, 7:22 pm - Happy Bahiya: <Media omitted>\n",
      "11/10/2024, 7:22 pm - Happy Bahiya: <Media omitted>\n",
      "11/10/2024, 7:22 pm - Happy Bahiya: <Media omitted>\n",
      "11/10/2024, 7:22 pm - Happy Bahiya: <Media omitted>\n",
      "11/10/2024, 7:22 pm - Happy Bahiya: <Media omitted>\n",
      "11/10/2024, 7:22 pm - Happy Bahiya: <Media omitted>\n",
      "11/10/2024, 7:22 pm - Happy Bahiya: <Media omitted>\n",
      "11/10/2024, 7:22 pm - Happy Bahiya: <Media omitted>\n",
      "11/10/2024, 7:22 pm - Happy Bahiya: <Media omitted>\n",
      "11/10/2024, 7:22 pm - Happy Bahiya: <Media omitted>\n",
      "11/10/2024, 7:22 pm - Happy Bahiya: <Media omitted>\n",
      "11/10/2024, 7:22 pm - Happy Bahiya: <Media omitted>\n",
      "11/10/2024, 7:22 pm - Happy Bahiya: <Media omitted>\n",
      "11/10/2024, 7:22 pm - Happy Bahiya: <Media omitted>\n",
      "11/10/2024, 7:22 pm - Happy Bahiya: <Media omitted>\n",
      "11/10/2024, 7:22 pm - Happy Bahiya: <Media omitted>\n",
      "11/10/2024, 7:22 pm - Happy Bahiya: <Media omitted>\n",
      "11/10/2024, 7:22 pm - Happy Bahiya: <Media omitted>\n",
      "11/10/2024, 7:22 pm - Happy Bahiya: <Media omitted>\n",
      "11/10/2024, 7:38 pm - Happy Bahiya: <Media omitted>\n",
      "11/10/2024, 7:38 pm - Happy Bahiya: <Media omitted>\n",
      "11/10/2024, 7:38 pm - Happy Bahiya: <Media omitted>\n",
      "12/10/2024, 8:01 am - Monika Di Mahamaya: Woahh🤩\n",
      "12/10/2024, 9:17 am - +91 91743 47310: <Media omitted>\n",
      "12/10/2024, 12:57 pm - Monika Di Mahamaya: Kahan k best hota hai\n",
      "12/10/2024, 12:58 pm - Monika Di Mahamaya: ??\n",
      "12/10/2024, 12:58 pm - Monika Di Mahamaya: Science college ja sakte hai\n",
      "12/10/2024, 12:59 pm - +91 91743 47310: Police ground\n",
      "12/10/2024, 12:59 pm - +91 91743 47310: Science college ka achha rhta h\n",
      "12/10/2024, 1:02 pm - Monika Di Mahamaya: Wokkays\n",
      "12/10/2024, 1:02 pm - Shalu Di Mahamaya: Chlna h kya??\n",
      "12/10/2024, 1:02 pm - Monika Di Mahamaya: Chlo\n",
      "12/10/2024, 1:03 pm - Shalu Di Mahamaya: Ok\n",
      "12/10/2024, 1:03 pm - Shalu Di Mahamaya: Time??\n",
      "12/10/2024, 1:03 pm - Monika Di Mahamaya: Baaki batao\n",
      "12/10/2024, 1:03 pm - Monika Di Mahamaya: Kitne time jaana hai\n",
      "12/10/2024, 1:03 pm - Shalu Di Mahamaya: Aur sab so rahe h🤣🤣\n",
      "12/10/2024, 1:03 pm - Monika Di Mahamaya: 😂😂\n",
      "12/10/2024, 1:07 pm - Kusum: Time ??\n",
      "12/10/2024, 1:08 pm - Monika Di Mahamaya: 7:30 sahi rahega\n",
      "12/10/2024, 1:08 pm - Monika Di Mahamaya: Baaki bataye\n",
      "12/10/2024, 1:09 pm - Shalu Di Mahamaya: Thik h\n",
      "12/10/2024, 1:33 pm - +91 91743 47310: 7 ko\n",
      "12/10/2024, 1:33 pm - +91 91743 47310: 7:30 jaoge to\n",
      "12/10/2024, 1:34 pm - +91 91743 47310: Wha tk phuch hu ni paoge\n",
      "12/10/2024, 1:44 pm - +91 99269 15696: Science college ground chlna hai kya\n",
      "12/10/2024, 1:45 pm - Monika Di Mahamaya: 7 ok\n",
      "12/10/2024, 5:10 pm - +91 91743 47310: <Media omitted>\n",
      "12/10/2024, 5:25 pm - Shalu Di Mahamaya: Humne to subah dekh liya\n",
      "12/10/2024, 6:46 pm - +91 91743 47310: Koi ja rhe ho\n",
      "12/10/2024, 6:46 pm - +91 91743 47310: Dashara dekhne\n",
      "12/10/2024, 6:46 pm - +91 91743 47310: ???\n",
      "12/10/2024, 10:15 pm - +91 91743 47310: Vidio pic share kre\n",
      "12/10/2024, 10:15 pm - +91 91743 47310: Jinke pas h\n",
      "12/10/2024, 11:21 pm - +91 91743 47310: Daloge yr\n",
      "12/10/2024, 11:21 pm - +91 91743 47310: Jinke pas h wo\n",
      "12/10/2024, 11:23 pm - Monika Di Mahamaya: <Media omitted>\n",
      "12/10/2024, 11:24 pm - Monika Di Mahamaya: <Media omitted>\n",
      "12/10/2024, 11:25 pm - Monika Di Mahamaya: <Media omitted>\n",
      "12/10/2024, 11:25 pm - Monika Di Mahamaya: <Media omitted>\n",
      "12/10/2024, 11:31 pm - Happy Bahiya: <Media omitted>\n",
      "12/10/2024, 11:39 pm - Shalu Di Mahamaya: <Media omitted>\n",
      "12/10/2024, 11:39 pm - Shalu Di Mahamaya: <Media omitted>\n",
      "12/10/2024, 11:39 pm - Shalu Di Mahamaya: <Media omitted>\n",
      "12/10/2024, 11:39 pm - Shalu Di Mahamaya: <Media omitted>\n",
      "12/10/2024, 11:39 pm - Shalu Di Mahamaya: <Media omitted>\n",
      "12/10/2024, 11:54 pm - Shalu Di Mahamaya: <Media omitted>\n",
      "12/10/2024, 11:54 pm - Shalu Di Mahamaya: <Media omitted>\n",
      "12/10/2024, 11:54 pm - Shalu Di Mahamaya: <Media omitted>\n",
      "12/10/2024, 11:54 pm - Shalu Di Mahamaya: <Media omitted>\n",
      "12/10/2024, 11:54 pm - Shalu Di Mahamaya: <Media omitted>\n",
      "12/10/2024, 11:54 pm - Shalu Di Mahamaya: <Media omitted>\n",
      "12/10/2024, 11:54 pm - Shalu Di Mahamaya: <Media omitted>\n",
      "12/10/2024, 11:54 pm - Shalu Di Mahamaya: <Media omitted>\n",
      "12/10/2024, 11:54 pm - Shalu Di Mahamaya: <Media omitted>\n",
      "01/11/2024, 6:36 pm - +91 91743 47310: Chief kon h 😁\n",
      "01/11/2024, 6:36 pm - Monika Di Mahamaya: Jala lo\n",
      "01/11/2024, 6:39 pm - Happy Bahiya: Isshu the great\n",
      "01/11/2024, 6:40 pm - Happy Bahiya: Jldhie aao\n",
      "01/11/2024, 6:41 pm - +91 91743 47310: Enjoy me kuchh to kmi rh hoga 🤭\n",
      "01/11/2024, 6:41 pm - Happy Bahiya: Areee\n",
      "01/11/2024, 6:42 pm - +91 91743 47310: To baki sb log ko bhi le jana th n yr\n",
      "01/11/2024, 6:43 pm - Happy Bahiya: 🙏🤐\n",
      "01/11/2024, 6:43 pm - Happy Bahiya: Bhiya\n",
      "01/11/2024, 6:44 pm - +91 91743 47310: Kya hua\n",
      "01/11/2024, 6:44 pm - +91 91743 47310: Ap kawardha ghumne\n",
      "01/11/2024, 6:45 pm - Happy Bahiya: Aata hu ruko\n",
      "01/11/2024, 6:45 pm - +91 91743 47310: Ao*\n",
      "01/11/2024, 6:45 pm - Happy Bahiya: Kb aare ho aap bhiya\n",
      "01/11/2024, 6:54 pm - +91 91743 47310: Bhai dooj ke bad\n",
      "01/11/2024, 7:24 pm - ~ Abhash Varshney added Bhaiii (Ishu) and ~ Hishank\n",
      "01/11/2024, 7:52 pm - Shalu Di Mahamaya: This message was deleted\n",
      "01/11/2024, 8:23 pm - Anjali Di Mahamaya: Inlog kabhi le ke ni jate hmlog ko\n",
      "01/11/2024, 9:52 pm - +91 91096 63182: <Media omitted>\n",
      "01/11/2024, 9:52 pm - +91 91096 63182: <Media omitted>\n",
      "01/11/2024, 9:52 pm - +91 91096 63182: <Media omitted>\n",
      "01/11/2024, 9:52 pm - +91 91096 63182: <Media omitted>\n",
      "01/11/2024, 9:52 pm - +91 91096 63182: <Media omitted>\n",
      "01/11/2024, 9:52 pm - +91 91096 63182: <Media omitted>\n",
      "01/11/2024, 9:52 pm - +91 91096 63182: <Media omitted>\n",
      "01/11/2024, 9:52 pm - +91 91096 63182: <Media omitted>\n",
      "01/11/2024, 9:52 pm - +91 91096 63182: <Media omitted>\n",
      "01/11/2024, 9:52 pm - +91 91096 63182: <Media omitted>\n",
      "01/11/2024, 9:52 pm - +91 91096 63182: <Media omitted>\n",
      "01/11/2024, 9:52 pm - +91 91096 63182: <Media omitted>\n",
      "01/11/2024, 9:52 pm - +91 91096 63182: <Media omitted>\n",
      "01/11/2024, 9:52 pm - +91 91096 63182: <Media omitted>\n",
      "01/11/2024, 9:52 pm - +91 91096 63182: <Media omitted>\n",
      "01/11/2024, 9:52 pm - +91 91096 63182: <Media omitted>\n",
      "01/11/2024, 9:52 pm - +91 91096 63182: <Media omitted>\n",
      "01/11/2024, 9:52 pm - +91 91096 63182: <Media omitted>\n",
      "01/11/2024, 9:52 pm - +91 91096 63182: <Media omitted>\n",
      "01/11/2024, 9:52 pm - +91 91096 63182: <Media omitted>\n",
      "01/11/2024, 9:52 pm - +91 91096 63182: <Media omitted>\n",
      "01/11/2024, 9:52 pm - +91 91096 63182: <Media omitted>\n",
      "01/11/2024, 9:52 pm - +91 91096 63182: <Media omitted>\n",
      "01/11/2024, 9:52 pm - +91 91096 63182: <Media omitted>\n",
      "01/11/2024, 9:52 pm - +91 91096 63182: <Media omitted>\n",
      "01/11/2024, 9:52 pm - +91 91096 63182: <Media omitted>\n",
      "01/11/2024, 9:52 pm - +91 91096 63182: <Media omitted>\n",
      "01/11/2024, 9:52 pm - +91 91096 63182: <Media omitted>\n",
      "01/11/2024, 9:52 pm - +91 91096 63182: <Media omitted>\n",
      "01/11/2024, 9:52 pm - +91 91096 63182: <Media omitted>\n",
      "01/11/2024, 9:52 pm - +91 91096 63182: <Media omitted>\n",
      "01/11/2024, 9:52 pm - +91 91096 63182: <Media omitted>\n",
      "01/11/2024, 9:52 pm - +91 91096 63182: <Media omitted>\n",
      "01/11/2024, 9:52 pm - +91 91096 63182: <Media omitted>\n",
      "01/11/2024, 9:52 pm - +91 91096 63182: <Media omitted>\n",
      "01/11/2024, 9:52 pm - +91 91096 63182: <Media omitted>\n",
      "01/11/2024, 9:52 pm - +91 91096 63182: <Media omitted>\n",
      "01/11/2024, 9:52 pm - +91 91096 63182: <Media omitted>\n",
      "01/11/2024, 9:52 pm - +91 91096 63182: <Media omitted>\n",
      "01/11/2024, 9:52 pm - +91 91096 63182: <Media omitted>\n",
      "01/11/2024, 9:53 pm - +91 91096 63182: <Media omitted>\n",
      "01/11/2024, 9:53 pm - +91 91096 63182: <Media omitted>\n",
      "01/11/2024, 9:53 pm - +91 91096 63182: <Media omitted>\n",
      "01/11/2024, 9:54 pm - +91 91096 63182: <Media omitted>\n",
      "01/11/2024, 9:54 pm - +91 91096 63182: <Media omitted>\n",
      "01/11/2024, 9:54 pm - +91 91096 63182: <Media omitted>\n",
      "01/11/2024, 9:54 pm - +91 91096 63182: <Media omitted>\n",
      "01/11/2024, 9:54 pm - +91 91096 63182: <Media omitted>\n",
      "01/11/2024, 9:54 pm - +91 91096 63182: <Media omitted>\n",
      "01/11/2024, 9:54 pm - +91 91096 63182: <Media omitted>\n",
      "01/11/2024, 9:54 pm - +91 91096 63182: <Media omitted>\n",
      "01/11/2024, 9:54 pm - +91 91096 63182: <Media omitted>\n",
      "01/11/2024, 9:54 pm - +91 91096 63182: <Media omitted>\n",
      "01/11/2024, 9:54 pm - +91 91096 63182: <Media omitted>\n",
      "01/11/2024, 9:54 pm - +91 91096 63182: <Media omitted>\n",
      "01/11/2024, 9:54 pm - +91 91096 63182: <Media omitted>\n",
      "01/11/2024, 9:54 pm - +91 91096 63182: <Media omitted>\n",
      "01/11/2024, 9:54 pm - +91 91096 63182: <Media omitted>\n",
      "01/11/2024, 9:54 pm - +91 91096 63182: <Media omitted>\n",
      "01/11/2024, 9:54 pm - +91 91096 63182: <Media omitted>\n",
      "01/11/2024, 9:54 pm - +91 91096 63182: <Media omitted>\n",
      "01/11/2024, 9:54 pm - +91 91096 63182: <Media omitted>\n",
      "01/11/2024, 9:54 pm - +91 91096 63182: <Media omitted>\n",
      "01/11/2024, 9:54 pm - +91 91096 63182: <Media omitted>\n",
      "01/11/2024, 9:54 pm - +91 91096 63182: <Media omitted>\n",
      "01/11/2024, 9:55 pm - +91 91096 63182: <Media omitted>\n",
      "01/11/2024, 9:55 pm - +91 91096 63182: <Media omitted>\n",
      "01/11/2024, 9:55 pm - +91 91096 63182: <Media omitted>\n",
      "15/12/2024, 11:45 pm - Monika Di Mahamaya: Aaj k photos bhej do doston\n",
      "15/12/2024, 11:46 pm - +91 91743 47310: <Media omitted>\n",
      "15/12/2024, 11:46 pm - +91 91743 47310: <Media omitted>\n",
      "15/12/2024, 11:46 pm - +91 91743 47310: <Media omitted>\n",
      "15/12/2024, 11:46 pm - +91 91743 47310: <Media omitted>\n",
      "15/12/2024, 11:46 pm - +91 91743 47310: <Media omitted>\n",
      "15/12/2024, 11:46 pm - +91 91743 47310: <Media omitted>\n",
      "15/12/2024, 11:46 pm - +91 91743 47310: <Media omitted>\n",
      "15/12/2024, 11:46 pm - +91 91743 47310: <Media omitted>\n",
      "15/12/2024, 11:46 pm - +91 91743 47310: <Media omitted>\n",
      "15/12/2024, 11:46 pm - +91 91743 47310: <Media omitted>\n",
      "15/12/2024, 11:46 pm - +91 91743 47310: <Media omitted>\n",
      "15/12/2024, 11:46 pm - +91 91743 47310: <Media omitted>\n",
      "15/12/2024, 11:47 pm - Happy Bahiya: Yeh glth bt h\n",
      "15/12/2024, 11:56 pm - +91 94790 41304: <Media omitted>\n",
      "15/12/2024, 11:57 pm - Happy Bahiya: <Media omitted>\n",
      "16/12/2024, 5:38 pm - +91 91096 63182: <Media omitted>\n",
      "16/12/2024, 5:38 pm - +91 91096 63182: <Media omitted>\n",
      "16/12/2024, 5:38 pm - +91 91096 63182: <Media omitted>\n",
      "16/12/2024, 5:38 pm - +91 91096 63182: <Media omitted>\n",
      "16/12/2024, 5:38 pm - +91 91096 63182: <Media omitted>\n",
      "16/12/2024, 5:38 pm - +91 91096 63182: <Media omitted>\n",
      "16/12/2024, 5:38 pm - +91 91096 63182: <Media omitted>\n",
      "16/12/2024, 5:38 pm - +91 91096 63182: <Media omitted>\n",
      "16/12/2024, 5:38 pm - +91 91096 63182: <Media omitted>\n",
      "16/12/2024, 5:38 pm - +91 91096 63182: <Media omitted>\n",
      "16/12/2024, 5:38 pm - +91 91096 63182: <Media omitted>\n",
      "16/12/2024, 5:40 pm - +91 91096 63182: <Media omitted>\n",
      "\n"
     ]
    }
   ],
   "source": [
    "print(data)"
   ]
  },
  {
   "cell_type": "code",
   "execution_count": 50,
   "metadata": {},
   "outputs": [],
   "source": [
    "pattern = r'\\d{2}/\\d{2}/\\d{4},\\s\\d{1,2}:\\d{2}\\s?[apAP][mM]\\s-\\s'"
   ]
  },
  {
   "cell_type": "code",
   "execution_count": 51,
   "metadata": {},
   "outputs": [],
   "source": [
    "messages=re.split(pattern, data)[1:]\n"
   ]
  },
  {
   "cell_type": "code",
   "execution_count": 52,
   "metadata": {},
   "outputs": [],
   "source": [
    "dates=re.findall(pattern, data)\n"
   ]
  },
  {
   "cell_type": "code",
   "execution_count": 53,
   "metadata": {},
   "outputs": [
    {
     "data": {
      "text/html": [
       "<div>\n",
       "<style scoped>\n",
       "    .dataframe tbody tr th:only-of-type {\n",
       "        vertical-align: middle;\n",
       "    }\n",
       "\n",
       "    .dataframe tbody tr th {\n",
       "        vertical-align: top;\n",
       "    }\n",
       "\n",
       "    .dataframe thead th {\n",
       "        text-align: right;\n",
       "    }\n",
       "</style>\n",
       "<table border=\"1\" class=\"dataframe\">\n",
       "  <thead>\n",
       "    <tr style=\"text-align: right;\">\n",
       "      <th></th>\n",
       "      <th>user_message</th>\n",
       "      <th>date</th>\n",
       "    </tr>\n",
       "  </thead>\n",
       "  <tbody>\n",
       "    <tr>\n",
       "      <th>0</th>\n",
       "      <td>Messages and calls are end-to-end encrypted. N...</td>\n",
       "      <td>2024-10-11 19:06:00</td>\n",
       "    </tr>\n",
       "    <tr>\n",
       "      <th>1</th>\n",
       "      <td>~ Abhash Varshney created group \"Naila Navratr...</td>\n",
       "      <td>2024-10-11 19:06:00</td>\n",
       "    </tr>\n",
       "    <tr>\n",
       "      <th>2</th>\n",
       "      <td>~ Abhash Varshney added you\\n</td>\n",
       "      <td>2024-10-11 19:06:00</td>\n",
       "    </tr>\n",
       "    <tr>\n",
       "      <th>3</th>\n",
       "      <td>Anjali Di Mahamaya: Acha\\n</td>\n",
       "      <td>2024-10-11 19:06:00</td>\n",
       "    </tr>\n",
       "    <tr>\n",
       "      <th>4</th>\n",
       "      <td>Shalu Di Mahamaya: Are hum nhi gye h 😳😳\\n</td>\n",
       "      <td>2024-10-11 19:06:00</td>\n",
       "    </tr>\n",
       "  </tbody>\n",
       "</table>\n",
       "</div>"
      ],
      "text/plain": [
       "                                        user_message                date\n",
       "0  Messages and calls are end-to-end encrypted. N... 2024-10-11 19:06:00\n",
       "1  ~ Abhash Varshney created group \"Naila Navratr... 2024-10-11 19:06:00\n",
       "2                      ~ Abhash Varshney added you\\n 2024-10-11 19:06:00\n",
       "3                         Anjali Di Mahamaya: Acha\\n 2024-10-11 19:06:00\n",
       "4          Shalu Di Mahamaya: Are hum nhi gye h 😳😳\\n 2024-10-11 19:06:00"
      ]
     },
     "execution_count": 53,
     "metadata": {},
     "output_type": "execute_result"
    }
   ],
   "source": [
    "df=pd.DataFrame({ 'user_message':messages,'message_date':dates})\n",
    "df['message_date']=pd.to_datetime(df['message_date'], format='%d/%m/%Y, %I:%M %p - ')\n",
    "df.rename(columns={'message_date':'date'}, inplace=True)\n",
    "\n",
    "df.head()"
   ]
  },
  {
   "cell_type": "code",
   "execution_count": 54,
   "metadata": {},
   "outputs": [
    {
     "data": {
      "text/plain": [
       "(243, 2)"
      ]
     },
     "execution_count": 54,
     "metadata": {},
     "output_type": "execute_result"
    }
   ],
   "source": [
    "df.shape"
   ]
  },
  {
   "cell_type": "code",
   "execution_count": 55,
   "metadata": {},
   "outputs": [
    {
     "data": {
      "text/html": [
       "<div>\n",
       "<style scoped>\n",
       "    .dataframe tbody tr th:only-of-type {\n",
       "        vertical-align: middle;\n",
       "    }\n",
       "\n",
       "    .dataframe tbody tr th {\n",
       "        vertical-align: top;\n",
       "    }\n",
       "\n",
       "    .dataframe thead th {\n",
       "        text-align: right;\n",
       "    }\n",
       "</style>\n",
       "<table border=\"1\" class=\"dataframe\">\n",
       "  <thead>\n",
       "    <tr style=\"text-align: right;\">\n",
       "      <th></th>\n",
       "      <th>date</th>\n",
       "      <th>user</th>\n",
       "      <th>message</th>\n",
       "    </tr>\n",
       "  </thead>\n",
       "  <tbody>\n",
       "    <tr>\n",
       "      <th>0</th>\n",
       "      <td>2024-10-11 19:06:00</td>\n",
       "      <td>group_notification</td>\n",
       "      <td>Messages and calls are end-to-end encrypted. N...</td>\n",
       "    </tr>\n",
       "    <tr>\n",
       "      <th>1</th>\n",
       "      <td>2024-10-11 19:06:00</td>\n",
       "      <td>group_notification</td>\n",
       "      <td>~ Abhash Varshney created group \"Naila Navratr...</td>\n",
       "    </tr>\n",
       "    <tr>\n",
       "      <th>2</th>\n",
       "      <td>2024-10-11 19:06:00</td>\n",
       "      <td>group_notification</td>\n",
       "      <td>~ Abhash Varshney added you\\n</td>\n",
       "    </tr>\n",
       "    <tr>\n",
       "      <th>3</th>\n",
       "      <td>2024-10-11 19:06:00</td>\n",
       "      <td>Anjali Di Mahamaya</td>\n",
       "      <td>Acha\\n</td>\n",
       "    </tr>\n",
       "    <tr>\n",
       "      <th>4</th>\n",
       "      <td>2024-10-11 19:06:00</td>\n",
       "      <td>Shalu Di Mahamaya</td>\n",
       "      <td>Are hum nhi gye h 😳😳\\n</td>\n",
       "    </tr>\n",
       "  </tbody>\n",
       "</table>\n",
       "</div>"
      ],
      "text/plain": [
       "                 date                user  \\\n",
       "0 2024-10-11 19:06:00  group_notification   \n",
       "1 2024-10-11 19:06:00  group_notification   \n",
       "2 2024-10-11 19:06:00  group_notification   \n",
       "3 2024-10-11 19:06:00  Anjali Di Mahamaya   \n",
       "4 2024-10-11 19:06:00   Shalu Di Mahamaya   \n",
       "\n",
       "                                             message  \n",
       "0  Messages and calls are end-to-end encrypted. N...  \n",
       "1  ~ Abhash Varshney created group \"Naila Navratr...  \n",
       "2                      ~ Abhash Varshney added you\\n  \n",
       "3                                             Acha\\n  \n",
       "4                             Are hum nhi gye h 😳😳\\n  "
      ]
     },
     "execution_count": 55,
     "metadata": {},
     "output_type": "execute_result"
    }
   ],
   "source": [
    "users=[]\n",
    "messages=[]\n",
    "for message in df['user_message']:\n",
    "    entry=re.split('([\\w\\W]+?):\\s',message)\n",
    "    if entry[1: ]:\n",
    "        users.append(entry[1])\n",
    "        messages.append(entry[2])\n",
    "    else:\n",
    "        users.append('group_notification')\n",
    "        messages.append(entry[0])\n",
    "df['user']=users\n",
    "df['message']=messages\n",
    "df.drop(columns=['user_message'], inplace=True)\n",
    "\n",
    "df.head()"
   ]
  },
  {
   "cell_type": "code",
   "execution_count": 56,
   "metadata": {},
   "outputs": [],
   "source": [
    "df['year']=df['date'].dt.year"
   ]
  },
  {
   "cell_type": "code",
   "execution_count": 57,
   "metadata": {},
   "outputs": [],
   "source": [
    "df['month']=df['date'].dt.month_name()"
   ]
  },
  {
   "cell_type": "code",
   "execution_count": 58,
   "metadata": {},
   "outputs": [],
   "source": [
    "df['day']=df['date'].dt.day"
   ]
  },
  {
   "cell_type": "code",
   "execution_count": 59,
   "metadata": {},
   "outputs": [],
   "source": [
    "df['hour']=df['date'].dt.hour"
   ]
  },
  {
   "cell_type": "code",
   "execution_count": 60,
   "metadata": {},
   "outputs": [],
   "source": [
    "df['minute']=df['date'].dt.minute"
   ]
  },
  {
   "cell_type": "code",
   "execution_count": 61,
   "metadata": {},
   "outputs": [
    {
     "data": {
      "text/html": [
       "<div>\n",
       "<style scoped>\n",
       "    .dataframe tbody tr th:only-of-type {\n",
       "        vertical-align: middle;\n",
       "    }\n",
       "\n",
       "    .dataframe tbody tr th {\n",
       "        vertical-align: top;\n",
       "    }\n",
       "\n",
       "    .dataframe thead th {\n",
       "        text-align: right;\n",
       "    }\n",
       "</style>\n",
       "<table border=\"1\" class=\"dataframe\">\n",
       "  <thead>\n",
       "    <tr style=\"text-align: right;\">\n",
       "      <th></th>\n",
       "      <th>date</th>\n",
       "      <th>user</th>\n",
       "      <th>message</th>\n",
       "      <th>year</th>\n",
       "      <th>month</th>\n",
       "      <th>day</th>\n",
       "      <th>hour</th>\n",
       "      <th>minute</th>\n",
       "    </tr>\n",
       "  </thead>\n",
       "  <tbody>\n",
       "    <tr>\n",
       "      <th>0</th>\n",
       "      <td>2024-10-11 19:06:00</td>\n",
       "      <td>group_notification</td>\n",
       "      <td>Messages and calls are end-to-end encrypted. N...</td>\n",
       "      <td>2024</td>\n",
       "      <td>October</td>\n",
       "      <td>11</td>\n",
       "      <td>19</td>\n",
       "      <td>6</td>\n",
       "    </tr>\n",
       "    <tr>\n",
       "      <th>1</th>\n",
       "      <td>2024-10-11 19:06:00</td>\n",
       "      <td>group_notification</td>\n",
       "      <td>~ Abhash Varshney created group \"Naila Navratr...</td>\n",
       "      <td>2024</td>\n",
       "      <td>October</td>\n",
       "      <td>11</td>\n",
       "      <td>19</td>\n",
       "      <td>6</td>\n",
       "    </tr>\n",
       "    <tr>\n",
       "      <th>2</th>\n",
       "      <td>2024-10-11 19:06:00</td>\n",
       "      <td>group_notification</td>\n",
       "      <td>~ Abhash Varshney added you\\n</td>\n",
       "      <td>2024</td>\n",
       "      <td>October</td>\n",
       "      <td>11</td>\n",
       "      <td>19</td>\n",
       "      <td>6</td>\n",
       "    </tr>\n",
       "    <tr>\n",
       "      <th>3</th>\n",
       "      <td>2024-10-11 19:06:00</td>\n",
       "      <td>Anjali Di Mahamaya</td>\n",
       "      <td>Acha\\n</td>\n",
       "      <td>2024</td>\n",
       "      <td>October</td>\n",
       "      <td>11</td>\n",
       "      <td>19</td>\n",
       "      <td>6</td>\n",
       "    </tr>\n",
       "    <tr>\n",
       "      <th>4</th>\n",
       "      <td>2024-10-11 19:06:00</td>\n",
       "      <td>Shalu Di Mahamaya</td>\n",
       "      <td>Are hum nhi gye h 😳😳\\n</td>\n",
       "      <td>2024</td>\n",
       "      <td>October</td>\n",
       "      <td>11</td>\n",
       "      <td>19</td>\n",
       "      <td>6</td>\n",
       "    </tr>\n",
       "  </tbody>\n",
       "</table>\n",
       "</div>"
      ],
      "text/plain": [
       "                 date                user  \\\n",
       "0 2024-10-11 19:06:00  group_notification   \n",
       "1 2024-10-11 19:06:00  group_notification   \n",
       "2 2024-10-11 19:06:00  group_notification   \n",
       "3 2024-10-11 19:06:00  Anjali Di Mahamaya   \n",
       "4 2024-10-11 19:06:00   Shalu Di Mahamaya   \n",
       "\n",
       "                                             message  year    month  day  \\\n",
       "0  Messages and calls are end-to-end encrypted. N...  2024  October   11   \n",
       "1  ~ Abhash Varshney created group \"Naila Navratr...  2024  October   11   \n",
       "2                      ~ Abhash Varshney added you\\n  2024  October   11   \n",
       "3                                             Acha\\n  2024  October   11   \n",
       "4                             Are hum nhi gye h 😳😳\\n  2024  October   11   \n",
       "\n",
       "   hour  minute  \n",
       "0    19       6  \n",
       "1    19       6  \n",
       "2    19       6  \n",
       "3    19       6  \n",
       "4    19       6  "
      ]
     },
     "execution_count": 61,
     "metadata": {},
     "output_type": "execute_result"
    }
   ],
   "source": [
    "df.head()"
   ]
  },
  {
   "cell_type": "code",
   "execution_count": 62,
   "metadata": {},
   "outputs": [
    {
     "data": {
      "text/plain": [
       "(29, 8)"
      ]
     },
     "execution_count": 62,
     "metadata": {},
     "output_type": "execute_result"
    }
   ],
   "source": [
    "df[df['user']=='Shalu Di Mahamaya'].shape"
   ]
  },
  {
   "cell_type": "code",
   "execution_count": 63,
   "metadata": {},
   "outputs": [],
   "source": [
    "words=[]\n",
    "for message in df['message']:\n",
    "    words.extend(message.split())"
   ]
  },
  {
   "cell_type": "code",
   "execution_count": 64,
   "metadata": {},
   "outputs": [
    {
     "data": {
      "text/plain": [
       "682"
      ]
     },
     "execution_count": 64,
     "metadata": {},
     "output_type": "execute_result"
    }
   ],
   "source": [
    "len(words)"
   ]
  },
  {
   "cell_type": "code",
   "execution_count": 65,
   "metadata": {},
   "outputs": [
    {
     "name": "stdout",
     "output_type": "stream",
     "text": [
      "c:\\Users\\Asus\\AppData\\Local\\Programs\\Python\\Python311\\python.exe\n"
     ]
    }
   ],
   "source": [
    "import sys\n",
    "print(sys.executable)\n"
   ]
  },
  {
   "cell_type": "code",
   "execution_count": 66,
   "metadata": {},
   "outputs": [
    {
     "name": "stdout",
     "output_type": "stream",
     "text": [
      "['www.google.com']\n"
     ]
    }
   ],
   "source": [
    "from urlextract import URLExtract\n",
    "\n",
    "extractor = URLExtract()\n",
    "urls = extractor.find_urls(\"www.google.com is a great search engine\")\n",
    "print(urls)\n"
   ]
  },
  {
   "cell_type": "code",
   "execution_count": 67,
   "metadata": {},
   "outputs": [],
   "source": [
    "links=[]\n",
    "for message in df['message']:\n",
    "    links.extend(extractor.find_urls(message))"
   ]
  },
  {
   "cell_type": "code",
   "execution_count": 68,
   "metadata": {},
   "outputs": [
    {
     "name": "stdout",
     "output_type": "stream",
     "text": [
      "0\n"
     ]
    }
   ],
   "source": [
    "print(len(links))"
   ]
  },
  {
   "cell_type": "code",
   "execution_count": 69,
   "metadata": {},
   "outputs": [
    {
     "data": {
      "text/html": [
       "<div>\n",
       "<style scoped>\n",
       "    .dataframe tbody tr th:only-of-type {\n",
       "        vertical-align: middle;\n",
       "    }\n",
       "\n",
       "    .dataframe tbody tr th {\n",
       "        vertical-align: top;\n",
       "    }\n",
       "\n",
       "    .dataframe thead th {\n",
       "        text-align: right;\n",
       "    }\n",
       "</style>\n",
       "<table border=\"1\" class=\"dataframe\">\n",
       "  <thead>\n",
       "    <tr style=\"text-align: right;\">\n",
       "      <th></th>\n",
       "      <th>date</th>\n",
       "      <th>user</th>\n",
       "      <th>message</th>\n",
       "      <th>year</th>\n",
       "      <th>month</th>\n",
       "      <th>day</th>\n",
       "      <th>hour</th>\n",
       "      <th>minute</th>\n",
       "    </tr>\n",
       "  </thead>\n",
       "  <tbody>\n",
       "    <tr>\n",
       "      <th>0</th>\n",
       "      <td>2024-10-11 19:06:00</td>\n",
       "      <td>group_notification</td>\n",
       "      <td>Messages and calls are end-to-end encrypted. N...</td>\n",
       "      <td>2024</td>\n",
       "      <td>October</td>\n",
       "      <td>11</td>\n",
       "      <td>19</td>\n",
       "      <td>6</td>\n",
       "    </tr>\n",
       "    <tr>\n",
       "      <th>1</th>\n",
       "      <td>2024-10-11 19:06:00</td>\n",
       "      <td>group_notification</td>\n",
       "      <td>~ Abhash Varshney created group \"Naila Navratr...</td>\n",
       "      <td>2024</td>\n",
       "      <td>October</td>\n",
       "      <td>11</td>\n",
       "      <td>19</td>\n",
       "      <td>6</td>\n",
       "    </tr>\n",
       "    <tr>\n",
       "      <th>2</th>\n",
       "      <td>2024-10-11 19:06:00</td>\n",
       "      <td>group_notification</td>\n",
       "      <td>~ Abhash Varshney added you\\n</td>\n",
       "      <td>2024</td>\n",
       "      <td>October</td>\n",
       "      <td>11</td>\n",
       "      <td>19</td>\n",
       "      <td>6</td>\n",
       "    </tr>\n",
       "    <tr>\n",
       "      <th>3</th>\n",
       "      <td>2024-10-11 19:06:00</td>\n",
       "      <td>Anjali Di Mahamaya</td>\n",
       "      <td>Acha\\n</td>\n",
       "      <td>2024</td>\n",
       "      <td>October</td>\n",
       "      <td>11</td>\n",
       "      <td>19</td>\n",
       "      <td>6</td>\n",
       "    </tr>\n",
       "    <tr>\n",
       "      <th>4</th>\n",
       "      <td>2024-10-11 19:06:00</td>\n",
       "      <td>Shalu Di Mahamaya</td>\n",
       "      <td>Are hum nhi gye h 😳😳\\n</td>\n",
       "      <td>2024</td>\n",
       "      <td>October</td>\n",
       "      <td>11</td>\n",
       "      <td>19</td>\n",
       "      <td>6</td>\n",
       "    </tr>\n",
       "    <tr>\n",
       "      <th>...</th>\n",
       "      <td>...</td>\n",
       "      <td>...</td>\n",
       "      <td>...</td>\n",
       "      <td>...</td>\n",
       "      <td>...</td>\n",
       "      <td>...</td>\n",
       "      <td>...</td>\n",
       "      <td>...</td>\n",
       "    </tr>\n",
       "    <tr>\n",
       "      <th>238</th>\n",
       "      <td>2024-12-16 17:38:00</td>\n",
       "      <td>+91 91096 63182</td>\n",
       "      <td>&lt;Media omitted&gt;\\n</td>\n",
       "      <td>2024</td>\n",
       "      <td>December</td>\n",
       "      <td>16</td>\n",
       "      <td>17</td>\n",
       "      <td>38</td>\n",
       "    </tr>\n",
       "    <tr>\n",
       "      <th>239</th>\n",
       "      <td>2024-12-16 17:38:00</td>\n",
       "      <td>+91 91096 63182</td>\n",
       "      <td>&lt;Media omitted&gt;\\n</td>\n",
       "      <td>2024</td>\n",
       "      <td>December</td>\n",
       "      <td>16</td>\n",
       "      <td>17</td>\n",
       "      <td>38</td>\n",
       "    </tr>\n",
       "    <tr>\n",
       "      <th>240</th>\n",
       "      <td>2024-12-16 17:38:00</td>\n",
       "      <td>+91 91096 63182</td>\n",
       "      <td>&lt;Media omitted&gt;\\n</td>\n",
       "      <td>2024</td>\n",
       "      <td>December</td>\n",
       "      <td>16</td>\n",
       "      <td>17</td>\n",
       "      <td>38</td>\n",
       "    </tr>\n",
       "    <tr>\n",
       "      <th>241</th>\n",
       "      <td>2024-12-16 17:38:00</td>\n",
       "      <td>+91 91096 63182</td>\n",
       "      <td>&lt;Media omitted&gt;\\n</td>\n",
       "      <td>2024</td>\n",
       "      <td>December</td>\n",
       "      <td>16</td>\n",
       "      <td>17</td>\n",
       "      <td>38</td>\n",
       "    </tr>\n",
       "    <tr>\n",
       "      <th>242</th>\n",
       "      <td>2024-12-16 17:40:00</td>\n",
       "      <td>+91 91096 63182</td>\n",
       "      <td>&lt;Media omitted&gt;\\n</td>\n",
       "      <td>2024</td>\n",
       "      <td>December</td>\n",
       "      <td>16</td>\n",
       "      <td>17</td>\n",
       "      <td>40</td>\n",
       "    </tr>\n",
       "  </tbody>\n",
       "</table>\n",
       "<p>243 rows × 8 columns</p>\n",
       "</div>"
      ],
      "text/plain": [
       "                   date                user  \\\n",
       "0   2024-10-11 19:06:00  group_notification   \n",
       "1   2024-10-11 19:06:00  group_notification   \n",
       "2   2024-10-11 19:06:00  group_notification   \n",
       "3   2024-10-11 19:06:00  Anjali Di Mahamaya   \n",
       "4   2024-10-11 19:06:00   Shalu Di Mahamaya   \n",
       "..                  ...                 ...   \n",
       "238 2024-12-16 17:38:00     +91 91096 63182   \n",
       "239 2024-12-16 17:38:00     +91 91096 63182   \n",
       "240 2024-12-16 17:38:00     +91 91096 63182   \n",
       "241 2024-12-16 17:38:00     +91 91096 63182   \n",
       "242 2024-12-16 17:40:00     +91 91096 63182   \n",
       "\n",
       "                                               message  year     month  day  \\\n",
       "0    Messages and calls are end-to-end encrypted. N...  2024   October   11   \n",
       "1    ~ Abhash Varshney created group \"Naila Navratr...  2024   October   11   \n",
       "2                        ~ Abhash Varshney added you\\n  2024   October   11   \n",
       "3                                               Acha\\n  2024   October   11   \n",
       "4                               Are hum nhi gye h 😳😳\\n  2024   October   11   \n",
       "..                                                 ...   ...       ...  ...   \n",
       "238                                  <Media omitted>\\n  2024  December   16   \n",
       "239                                  <Media omitted>\\n  2024  December   16   \n",
       "240                                  <Media omitted>\\n  2024  December   16   \n",
       "241                                  <Media omitted>\\n  2024  December   16   \n",
       "242                                  <Media omitted>\\n  2024  December   16   \n",
       "\n",
       "     hour  minute  \n",
       "0      19       6  \n",
       "1      19       6  \n",
       "2      19       6  \n",
       "3      19       6  \n",
       "4      19       6  \n",
       "..    ...     ...  \n",
       "238    17      38  \n",
       "239    17      38  \n",
       "240    17      38  \n",
       "241    17      38  \n",
       "242    17      40  \n",
       "\n",
       "[243 rows x 8 columns]"
      ]
     },
     "execution_count": 69,
     "metadata": {},
     "output_type": "execute_result"
    }
   ],
   "source": [
    "df"
   ]
  },
  {
   "cell_type": "code",
   "execution_count": 70,
   "metadata": {},
   "outputs": [],
   "source": [
    "x=df['user'].value_counts().head()"
   ]
  },
  {
   "cell_type": "code",
   "execution_count": 71,
   "metadata": {},
   "outputs": [],
   "source": [
    "import matplotlib.pyplot as plt"
   ]
  },
  {
   "cell_type": "code",
   "execution_count": 72,
   "metadata": {},
   "outputs": [],
   "source": [
    "def most_busy_users(df):\n",
    "    if 'user' in df.columns:\n",
    "        user_counts = df['user'].value_counts()\n",
    "        return user_counts\n",
    "    else:\n",
    "        return None\n"
   ]
  },
  {
   "cell_type": "code",
   "execution_count": 73,
   "metadata": {},
   "outputs": [
    {
     "data": {
      "text/plain": [
       "([0, 1, 2, 3, 4],\n",
       " [Text(0, 0, '+91 91096 63182'),\n",
       "  Text(1, 0, 'Happy Bahiya'),\n",
       "  Text(2, 0, '+91 91743 47310'),\n",
       "  Text(3, 0, 'Shalu Di Mahamaya'),\n",
       "  Text(4, 0, 'Monika Di Mahamaya')])"
      ]
     },
     "execution_count": 73,
     "metadata": {},
     "output_type": "execute_result"
    },
    {
     "data": {
      "image/png": "[encoded data removed]",
      "text/plain": [
       "<Figure size 640x480 with 1 Axes>"
      ]
     },
     "metadata": {},
     "output_type": "display_data"
    }
   ],
   "source": [
    "name=x.index\n",
    "count=x.values\n",
    "plt.bar(name,count)\n",
    "plt.xticks(rotation=\"vertical\" )"
   ]
  },
  {
   "cell_type": "code",
   "execution_count": 74,
   "metadata": {},
   "outputs": [
    {
     "data": {
      "text/html": [
       "<div>\n",
       "<style scoped>\n",
       "    .dataframe tbody tr th:only-of-type {\n",
       "        vertical-align: middle;\n",
       "    }\n",
       "\n",
       "    .dataframe tbody tr th {\n",
       "        vertical-align: top;\n",
       "    }\n",
       "\n",
       "    .dataframe thead th {\n",
       "        text-align: right;\n",
       "    }\n",
       "</style>\n",
       "<table border=\"1\" class=\"dataframe\">\n",
       "  <thead>\n",
       "    <tr style=\"text-align: right;\">\n",
       "      <th></th>\n",
       "      <th>Name</th>\n",
       "      <th>percent</th>\n",
       "    </tr>\n",
       "  </thead>\n",
       "  <tbody>\n",
       "    <tr>\n",
       "      <th>0</th>\n",
       "      <td>+91 91096 63182</td>\n",
       "      <td>32.92</td>\n",
       "    </tr>\n",
       "    <tr>\n",
       "      <th>1</th>\n",
       "      <td>Happy Bahiya</td>\n",
       "      <td>17.28</td>\n",
       "    </tr>\n",
       "    <tr>\n",
       "      <th>2</th>\n",
       "      <td>+91 91743 47310</td>\n",
       "      <td>16.87</td>\n",
       "    </tr>\n",
       "    <tr>\n",
       "      <th>3</th>\n",
       "      <td>Shalu Di Mahamaya</td>\n",
       "      <td>11.93</td>\n",
       "    </tr>\n",
       "    <tr>\n",
       "      <th>4</th>\n",
       "      <td>Monika Di Mahamaya</td>\n",
       "      <td>8.64</td>\n",
       "    </tr>\n",
       "    <tr>\n",
       "      <th>5</th>\n",
       "      <td>Anjali Di Mahamaya</td>\n",
       "      <td>6.17</td>\n",
       "    </tr>\n",
       "    <tr>\n",
       "      <th>6</th>\n",
       "      <td>group_notification</td>\n",
       "      <td>2.06</td>\n",
       "    </tr>\n",
       "    <tr>\n",
       "      <th>7</th>\n",
       "      <td>Kusum</td>\n",
       "      <td>2.06</td>\n",
       "    </tr>\n",
       "    <tr>\n",
       "      <th>8</th>\n",
       "      <td>+91 99269 15696</td>\n",
       "      <td>1.65</td>\n",
       "    </tr>\n",
       "    <tr>\n",
       "      <th>9</th>\n",
       "      <td>+91 94790 41304</td>\n",
       "      <td>0.41</td>\n",
       "    </tr>\n",
       "  </tbody>\n",
       "</table>\n",
       "</div>"
      ],
      "text/plain": [
       "                 Name  percent\n",
       "0     +91 91096 63182    32.92\n",
       "1        Happy Bahiya    17.28\n",
       "2     +91 91743 47310    16.87\n",
       "3   Shalu Di Mahamaya    11.93\n",
       "4  Monika Di Mahamaya     8.64\n",
       "5  Anjali Di Mahamaya     6.17\n",
       "6  group_notification     2.06\n",
       "7               Kusum     2.06\n",
       "8     +91 99269 15696     1.65\n",
       "9     +91 94790 41304     0.41"
      ]
     },
     "execution_count": 74,
     "metadata": {},
     "output_type": "execute_result"
    }
   ],
   "source": [
    "round((df['user'].value_counts()/df.shape[0])*100,2).reset_index().rename(columns={'index':'Name', 'user':'percent'})"
   ]
  },
  {
   "cell_type": "code",
   "execution_count": 75,
   "metadata": {},
   "outputs": [],
   "source": [
    "temp=df[df['user']!='group_notification']\n",
    "temp=temp[temp['message']!= '<Media omitted>\\n']"
   ]
  },
  {
   "cell_type": "code",
   "execution_count": 76,
   "metadata": {},
   "outputs": [],
   "source": [
    "f=open('stop_hinglish.txt','r')\n",
    "stop_words=f.read()"
   ]
  },
  {
   "cell_type": "code",
   "execution_count": 77,
   "metadata": {},
   "outputs": [],
   "source": [
    "words=[]\n",
    "for message in temp['message']:\n",
    "    for word in message.lower().split():\n",
    "        if word not in stop_words:\n",
    "            words.append(word)"
   ]
  },
  {
   "cell_type": "code",
   "execution_count": 78,
   "metadata": {},
   "outputs": [
    {
     "data": {
      "text/html": [
       "<div>\n",
       "<style scoped>\n",
       "    .dataframe tbody tr th:only-of-type {\n",
       "        vertical-align: middle;\n",
       "    }\n",
       "\n",
       "    .dataframe tbody tr th {\n",
       "        vertical-align: top;\n",
       "    }\n",
       "\n",
       "    .dataframe thead th {\n",
       "        text-align: right;\n",
       "    }\n",
       "</style>\n",
       "<table border=\"1\" class=\"dataframe\">\n",
       "  <thead>\n",
       "    <tr style=\"text-align: right;\">\n",
       "      <th></th>\n",
       "      <th>0</th>\n",
       "      <th>1</th>\n",
       "    </tr>\n",
       "  </thead>\n",
       "  <tbody>\n",
       "    <tr>\n",
       "      <th>0</th>\n",
       "      <td>video</td>\n",
       "      <td>3</td>\n",
       "    </tr>\n",
       "    <tr>\n",
       "      <th>1</th>\n",
       "      <td>??</td>\n",
       "      <td>3</td>\n",
       "    </tr>\n",
       "    <tr>\n",
       "      <th>2</th>\n",
       "      <td>science</td>\n",
       "      <td>3</td>\n",
       "    </tr>\n",
       "    <tr>\n",
       "      <th>3</th>\n",
       "      <td>college</td>\n",
       "      <td>3</td>\n",
       "    </tr>\n",
       "    <tr>\n",
       "      <th>4</th>\n",
       "      <td>group</td>\n",
       "      <td>2</td>\n",
       "    </tr>\n",
       "    <tr>\n",
       "      <th>5</th>\n",
       "      <td>call</td>\n",
       "      <td>2</td>\n",
       "    </tr>\n",
       "    <tr>\n",
       "      <th>6</th>\n",
       "      <td>network</td>\n",
       "      <td>2</td>\n",
       "    </tr>\n",
       "    <tr>\n",
       "      <th>7</th>\n",
       "      <td>ground</td>\n",
       "      <td>2</td>\n",
       "    </tr>\n",
       "    <tr>\n",
       "      <th>8</th>\n",
       "      <td>7:30</td>\n",
       "      <td>2</td>\n",
       "    </tr>\n",
       "    <tr>\n",
       "      <th>9</th>\n",
       "      <td>😳😳</td>\n",
       "      <td>1</td>\n",
       "    </tr>\n",
       "    <tr>\n",
       "      <th>10</th>\n",
       "      <td>🤣🤣🤣🤣</td>\n",
       "      <td>1</td>\n",
       "    </tr>\n",
       "    <tr>\n",
       "      <th>11</th>\n",
       "      <td>🤣🤣🤣</td>\n",
       "      <td>1</td>\n",
       "    </tr>\n",
       "    <tr>\n",
       "      <th>12</th>\n",
       "      <td>light</td>\n",
       "      <td>1</td>\n",
       "    </tr>\n",
       "    <tr>\n",
       "      <th>13</th>\n",
       "      <td>show</td>\n",
       "      <td>1</td>\n",
       "    </tr>\n",
       "    <tr>\n",
       "      <th>14</th>\n",
       "      <td>lena</td>\n",
       "      <td>1</td>\n",
       "    </tr>\n",
       "    <tr>\n",
       "      <th>15</th>\n",
       "      <td>dekhna</td>\n",
       "      <td>1</td>\n",
       "    </tr>\n",
       "    <tr>\n",
       "      <th>16</th>\n",
       "      <td>😍</td>\n",
       "      <td>1</td>\n",
       "    </tr>\n",
       "    <tr>\n",
       "      <th>17</th>\n",
       "      <td>lenge</td>\n",
       "      <td>1</td>\n",
       "    </tr>\n",
       "    <tr>\n",
       "      <th>18</th>\n",
       "      <td>join</td>\n",
       "      <td>1</td>\n",
       "    </tr>\n",
       "    <tr>\n",
       "      <th>19</th>\n",
       "      <td>darling.vcf</td>\n",
       "      <td>1</td>\n",
       "    </tr>\n",
       "  </tbody>\n",
       "</table>\n",
       "</div>"
      ],
      "text/plain": [
       "              0  1\n",
       "0         video  3\n",
       "1            ??  3\n",
       "2       science  3\n",
       "3       college  3\n",
       "4         group  2\n",
       "5          call  2\n",
       "6       network  2\n",
       "7        ground  2\n",
       "8          7:30  2\n",
       "9            😳😳  1\n",
       "10         🤣🤣🤣🤣  1\n",
       "11          🤣🤣🤣  1\n",
       "12        light  1\n",
       "13         show  1\n",
       "14         lena  1\n",
       "15       dekhna  1\n",
       "16            😍  1\n",
       "17        lenge  1\n",
       "18         join  1\n",
       "19  darling.vcf  1"
      ]
     },
     "execution_count": 78,
     "metadata": {},
     "output_type": "execute_result"
    }
   ],
   "source": [
    "from collections import Counter\n",
    "pd.DataFrame(Counter(words).most_common(20))"
   ]
  },
  {
   "cell_type": "code",
   "execution_count": 79,
   "metadata": {},
   "outputs": [
    {
     "name": "stdout",
     "output_type": "stream",
     "text": [
      "Requirement already satisfied: emoji in c:\\users\\asus\\appdata\\local\\programs\\python\\python311\\lib\\site-packages (2.14.0)\n",
      "Note: you may need to restart the kernel to use updated packages.\n"
     ]
    },
    {
     "name": "stderr",
     "output_type": "stream",
     "text": [
      "\n",
      "[notice] A new release of pip is available: 23.3.2 -> 24.3.1\n",
      "[notice] To update, run: python.exe -m pip install --upgrade pip\n"
     ]
    }
   ],
   "source": [
    "pip install emoji"
   ]
  },
  {
   "cell_type": "code",
   "execution_count": 80,
   "metadata": {},
   "outputs": [],
   "source": [
    "import emoji\n",
    "\n",
    "emojis = []\n",
    "for message in df['message']:\n",
    "    emojis.extend([c for c in message if c in emoji.EMOJI_DATA])\n"
   ]
  },
  {
   "cell_type": "code",
   "execution_count": 81,
   "metadata": {},
   "outputs": [
    {
     "data": {
      "text/html": [
       "<div>\n",
       "<style scoped>\n",
       "    .dataframe tbody tr th:only-of-type {\n",
       "        vertical-align: middle;\n",
       "    }\n",
       "\n",
       "    .dataframe tbody tr th {\n",
       "        vertical-align: top;\n",
       "    }\n",
       "\n",
       "    .dataframe thead th {\n",
       "        text-align: right;\n",
       "    }\n",
       "</style>\n",
       "<table border=\"1\" class=\"dataframe\">\n",
       "  <thead>\n",
       "    <tr style=\"text-align: right;\">\n",
       "      <th></th>\n",
       "      <th>0</th>\n",
       "      <th>1</th>\n",
       "    </tr>\n",
       "  </thead>\n",
       "  <tbody>\n",
       "    <tr>\n",
       "      <th>0</th>\n",
       "      <td>🤣</td>\n",
       "      <td>13</td>\n",
       "    </tr>\n",
       "    <tr>\n",
       "      <th>1</th>\n",
       "      <td>😂</td>\n",
       "      <td>3</td>\n",
       "    </tr>\n",
       "    <tr>\n",
       "      <th>2</th>\n",
       "      <td>🔥</td>\n",
       "      <td>2</td>\n",
       "    </tr>\n",
       "    <tr>\n",
       "      <th>3</th>\n",
       "      <td>😳</td>\n",
       "      <td>2</td>\n",
       "    </tr>\n",
       "    <tr>\n",
       "      <th>4</th>\n",
       "      <td>💐</td>\n",
       "      <td>1</td>\n",
       "    </tr>\n",
       "    <tr>\n",
       "      <th>5</th>\n",
       "      <td>🎈</td>\n",
       "      <td>1</td>\n",
       "    </tr>\n",
       "    <tr>\n",
       "      <th>6</th>\n",
       "      <td>🌹</td>\n",
       "      <td>1</td>\n",
       "    </tr>\n",
       "    <tr>\n",
       "      <th>7</th>\n",
       "      <td>😍</td>\n",
       "      <td>1</td>\n",
       "    </tr>\n",
       "    <tr>\n",
       "      <th>8</th>\n",
       "      <td>😜</td>\n",
       "      <td>1</td>\n",
       "    </tr>\n",
       "    <tr>\n",
       "      <th>9</th>\n",
       "      <td>🤩</td>\n",
       "      <td>1</td>\n",
       "    </tr>\n",
       "    <tr>\n",
       "      <th>10</th>\n",
       "      <td>😁</td>\n",
       "      <td>1</td>\n",
       "    </tr>\n",
       "    <tr>\n",
       "      <th>11</th>\n",
       "      <td>🤭</td>\n",
       "      <td>1</td>\n",
       "    </tr>\n",
       "    <tr>\n",
       "      <th>12</th>\n",
       "      <td>🙏</td>\n",
       "      <td>1</td>\n",
       "    </tr>\n",
       "    <tr>\n",
       "      <th>13</th>\n",
       "      <td>🤐</td>\n",
       "      <td>1</td>\n",
       "    </tr>\n",
       "  </tbody>\n",
       "</table>\n",
       "</div>"
      ],
      "text/plain": [
       "    0   1\n",
       "0   🤣  13\n",
       "1   😂   3\n",
       "2   🔥   2\n",
       "3   😳   2\n",
       "4   💐   1\n",
       "5   🎈   1\n",
       "6   🌹   1\n",
       "7   😍   1\n",
       "8   😜   1\n",
       "9   🤩   1\n",
       "10  😁   1\n",
       "11  🤭   1\n",
       "12  🙏   1\n",
       "13  🤐   1"
      ]
     },
     "execution_count": 81,
     "metadata": {},
     "output_type": "execute_result"
    }
   ],
   "source": [
    "pd.DataFrame(Counter(emojis).most_common(len(Counter(emojis))))"
   ]
  },
  {
   "cell_type": "code",
   "execution_count": 82,
   "metadata": {},
   "outputs": [],
   "source": [
    "df['month_num']=df['date'].dt.month\n"
   ]
  },
  {
   "cell_type": "code",
   "execution_count": 83,
   "metadata": {},
   "outputs": [],
   "source": [
    "timeline=df.groupby(['year','month_num']).count()['message'].reset_index()"
   ]
  },
  {
   "cell_type": "code",
   "execution_count": 84,
   "metadata": {},
   "outputs": [],
   "source": [
    "time=[]\n",
    "for i in range(timeline.shape[0]):\n",
    "    time.append(str(timeline['year'][i])+'-'+str(timeline['month_num'][i]))"
   ]
  },
  {
   "cell_type": "code",
   "execution_count": 85,
   "metadata": {},
   "outputs": [],
   "source": [
    "timeline['time']=time"
   ]
  },
  {
   "cell_type": "code",
   "execution_count": 86,
   "metadata": {},
   "outputs": [
    {
     "data": {
      "text/html": [
       "<div>\n",
       "<style scoped>\n",
       "    .dataframe tbody tr th:only-of-type {\n",
       "        vertical-align: middle;\n",
       "    }\n",
       "\n",
       "    .dataframe tbody tr th {\n",
       "        vertical-align: top;\n",
       "    }\n",
       "\n",
       "    .dataframe thead th {\n",
       "        text-align: right;\n",
       "    }\n",
       "</style>\n",
       "<table border=\"1\" class=\"dataframe\">\n",
       "  <thead>\n",
       "    <tr style=\"text-align: right;\">\n",
       "      <th></th>\n",
       "      <th>year</th>\n",
       "      <th>month_num</th>\n",
       "      <th>message</th>\n",
       "      <th>time</th>\n",
       "    </tr>\n",
       "  </thead>\n",
       "  <tbody>\n",
       "    <tr>\n",
       "      <th>0</th>\n",
       "      <td>2024</td>\n",
       "      <td>10</td>\n",
       "      <td>129</td>\n",
       "      <td>2024-10</td>\n",
       "    </tr>\n",
       "    <tr>\n",
       "      <th>1</th>\n",
       "      <td>2024</td>\n",
       "      <td>11</td>\n",
       "      <td>86</td>\n",
       "      <td>2024-11</td>\n",
       "    </tr>\n",
       "    <tr>\n",
       "      <th>2</th>\n",
       "      <td>2024</td>\n",
       "      <td>12</td>\n",
       "      <td>28</td>\n",
       "      <td>2024-12</td>\n",
       "    </tr>\n",
       "  </tbody>\n",
       "</table>\n",
       "</div>"
      ],
      "text/plain": [
       "   year  month_num  message     time\n",
       "0  2024         10      129  2024-10\n",
       "1  2024         11       86  2024-11\n",
       "2  2024         12       28  2024-12"
      ]
     },
     "execution_count": 86,
     "metadata": {},
     "output_type": "execute_result"
    }
   ],
   "source": [
    "timeline"
   ]
  },
  {
   "cell_type": "code",
   "execution_count": 87,
   "metadata": {},
   "outputs": [
    {
     "data": {
      "image/png": "[encoded data removed]",
      "text/plain": [
       "<Figure size 640x480 with 1 Axes>"
      ]
     },
     "metadata": {},
     "output_type": "display_data"
    }
   ],
   "source": [
    "plt.plot(timeline['time'], timeline['message'])\n",
    "plt.xticks(rotation='vertical')\n",
    "plt.show()"
   ]
  },
  {
   "cell_type": "code",
   "execution_count": 90,
   "metadata": {},
   "outputs": [],
   "source": [
    "df['only_date']=df['date'].dt.date"
   ]
  },
  {
   "cell_type": "code",
   "execution_count": 92,
   "metadata": {},
   "outputs": [],
   "source": [
    "daily_timeline=df.groupby('only_date').count()['message'].reset_index()"
   ]
  },
  {
   "cell_type": "code",
   "execution_count": 95,
   "metadata": {},
   "outputs": [
    {
     "data": {
      "text/plain": [
       "[<matplotlib.lines.Line2D at 0x29b9541fc50>]"
      ]
     },
     "execution_count": 95,
     "metadata": {},
     "output_type": "execute_result"
    },
    {
     "data": {
      "image/png": "[encoded data removed]",
      "text/plain": [
       "<Figure size 1800x1000 with 1 Axes>"
      ]
     },
     "metadata": {},
     "output_type": "display_data"
    }
   ],
   "source": [
    "plt.figure(figsize=(18,10))\n",
    "plt.plot(daily_timeline['only_date'], daily_timeline['message'])"
   ]
  },
  {
   "cell_type": "code",
   "execution_count": 96,
   "metadata": {},
   "outputs": [],
   "source": [
    "df['day_name']=df['date'].dt.day_name()"
   ]
  },
  {
   "cell_type": "code",
   "execution_count": 97,
   "metadata": {},
   "outputs": [
    {
     "data": {
      "text/plain": [
       "Friday      162\n",
       "Saturday     53\n",
       "Sunday       16\n",
       "Monday       12\n",
       "Name: day_name, dtype: int64"
      ]
     },
     "execution_count": 97,
     "metadata": {},
     "output_type": "execute_result"
    }
   ],
   "source": [
    "df['day_name'].value_counts()"
   ]
  },
  {
   "cell_type": "code",
   "execution_count": 99,
   "metadata": {},
   "outputs": [
    {
     "data": {
      "text/html": [
       "<div>\n",
       "<style scoped>\n",
       "    .dataframe tbody tr th:only-of-type {\n",
       "        vertical-align: middle;\n",
       "    }\n",
       "\n",
       "    .dataframe tbody tr th {\n",
       "        vertical-align: top;\n",
       "    }\n",
       "\n",
       "    .dataframe thead th {\n",
       "        text-align: right;\n",
       "    }\n",
       "</style>\n",
       "<table border=\"1\" class=\"dataframe\">\n",
       "  <thead>\n",
       "    <tr style=\"text-align: right;\">\n",
       "      <th></th>\n",
       "      <th>date</th>\n",
       "      <th>user</th>\n",
       "      <th>message</th>\n",
       "      <th>year</th>\n",
       "      <th>month</th>\n",
       "      <th>day</th>\n",
       "      <th>hour</th>\n",
       "      <th>minute</th>\n",
       "      <th>month_num</th>\n",
       "      <th>only_date</th>\n",
       "      <th>day_name</th>\n",
       "    </tr>\n",
       "  </thead>\n",
       "  <tbody>\n",
       "    <tr>\n",
       "      <th>0</th>\n",
       "      <td>2024-10-11 19:06:00</td>\n",
       "      <td>group_notification</td>\n",
       "      <td>Messages and calls are end-to-end encrypted. N...</td>\n",
       "      <td>2024</td>\n",
       "      <td>October</td>\n",
       "      <td>11</td>\n",
       "      <td>19</td>\n",
       "      <td>6</td>\n",
       "      <td>10</td>\n",
       "      <td>2024-10-11</td>\n",
       "      <td>Friday</td>\n",
       "    </tr>\n",
       "    <tr>\n",
       "      <th>1</th>\n",
       "      <td>2024-10-11 19:06:00</td>\n",
       "      <td>group_notification</td>\n",
       "      <td>~ Abhash Varshney created group \"Naila Navratr...</td>\n",
       "      <td>2024</td>\n",
       "      <td>October</td>\n",
       "      <td>11</td>\n",
       "      <td>19</td>\n",
       "      <td>6</td>\n",
       "      <td>10</td>\n",
       "      <td>2024-10-11</td>\n",
       "      <td>Friday</td>\n",
       "    </tr>\n",
       "    <tr>\n",
       "      <th>2</th>\n",
       "      <td>2024-10-11 19:06:00</td>\n",
       "      <td>group_notification</td>\n",
       "      <td>~ Abhash Varshney added you\\n</td>\n",
       "      <td>2024</td>\n",
       "      <td>October</td>\n",
       "      <td>11</td>\n",
       "      <td>19</td>\n",
       "      <td>6</td>\n",
       "      <td>10</td>\n",
       "      <td>2024-10-11</td>\n",
       "      <td>Friday</td>\n",
       "    </tr>\n",
       "    <tr>\n",
       "      <th>3</th>\n",
       "      <td>2024-10-11 19:06:00</td>\n",
       "      <td>Anjali Di Mahamaya</td>\n",
       "      <td>Acha\\n</td>\n",
       "      <td>2024</td>\n",
       "      <td>October</td>\n",
       "      <td>11</td>\n",
       "      <td>19</td>\n",
       "      <td>6</td>\n",
       "      <td>10</td>\n",
       "      <td>2024-10-11</td>\n",
       "      <td>Friday</td>\n",
       "    </tr>\n",
       "    <tr>\n",
       "      <th>4</th>\n",
       "      <td>2024-10-11 19:06:00</td>\n",
       "      <td>Shalu Di Mahamaya</td>\n",
       "      <td>Are hum nhi gye h 😳😳\\n</td>\n",
       "      <td>2024</td>\n",
       "      <td>October</td>\n",
       "      <td>11</td>\n",
       "      <td>19</td>\n",
       "      <td>6</td>\n",
       "      <td>10</td>\n",
       "      <td>2024-10-11</td>\n",
       "      <td>Friday</td>\n",
       "    </tr>\n",
       "  </tbody>\n",
       "</table>\n",
       "</div>"
      ],
      "text/plain": [
       "                 date                user  \\\n",
       "0 2024-10-11 19:06:00  group_notification   \n",
       "1 2024-10-11 19:06:00  group_notification   \n",
       "2 2024-10-11 19:06:00  group_notification   \n",
       "3 2024-10-11 19:06:00  Anjali Di Mahamaya   \n",
       "4 2024-10-11 19:06:00   Shalu Di Mahamaya   \n",
       "\n",
       "                                             message  year    month  day  \\\n",
       "0  Messages and calls are end-to-end encrypted. N...  2024  October   11   \n",
       "1  ~ Abhash Varshney created group \"Naila Navratr...  2024  October   11   \n",
       "2                      ~ Abhash Varshney added you\\n  2024  October   11   \n",
       "3                                             Acha\\n  2024  October   11   \n",
       "4                             Are hum nhi gye h 😳😳\\n  2024  October   11   \n",
       "\n",
       "   hour  minute  month_num   only_date day_name  \n",
       "0    19       6         10  2024-10-11   Friday  \n",
       "1    19       6         10  2024-10-11   Friday  \n",
       "2    19       6         10  2024-10-11   Friday  \n",
       "3    19       6         10  2024-10-11   Friday  \n",
       "4    19       6         10  2024-10-11   Friday  "
      ]
     },
     "execution_count": 99,
     "metadata": {},
     "output_type": "execute_result"
    }
   ],
   "source": [
    "df.head()"
   ]
  },
  {
   "cell_type": "code",
   "execution_count": 104,
   "metadata": {},
   "outputs": [],
   "source": [
    "period = []\n",
    "\n",
    "# Ensure the DataFrame contains 'hour' as an integer column\n",
    "for hour in df['hour']:\n",
    "    if hour == 23:\n",
    "        period.append(f\"{hour}-00\")\n",
    "    elif hour == 0:\n",
    "        period.append(\"00-1\")\n",
    "    else:\n",
    "        period.append(f\"{hour}-{hour+1}\")\n"
   ]
  },
  {
   "cell_type": "code",
   "execution_count": 105,
   "metadata": {},
   "outputs": [],
   "source": [
    "df['period']=period"
   ]
  },
  {
   "cell_type": "code",
   "execution_count": 107,
   "metadata": {},
   "outputs": [
    {
     "data": {
      "text/html": [
       "<div>\n",
       "<style scoped>\n",
       "    .dataframe tbody tr th:only-of-type {\n",
       "        vertical-align: middle;\n",
       "    }\n",
       "\n",
       "    .dataframe tbody tr th {\n",
       "        vertical-align: top;\n",
       "    }\n",
       "\n",
       "    .dataframe thead th {\n",
       "        text-align: right;\n",
       "    }\n",
       "</style>\n",
       "<table border=\"1\" class=\"dataframe\">\n",
       "  <thead>\n",
       "    <tr style=\"text-align: right;\">\n",
       "      <th></th>\n",
       "      <th>date</th>\n",
       "      <th>user</th>\n",
       "      <th>message</th>\n",
       "      <th>year</th>\n",
       "      <th>month</th>\n",
       "      <th>day</th>\n",
       "      <th>hour</th>\n",
       "      <th>minute</th>\n",
       "      <th>month_num</th>\n",
       "      <th>only_date</th>\n",
       "      <th>day_name</th>\n",
       "      <th>period</th>\n",
       "    </tr>\n",
       "  </thead>\n",
       "  <tbody>\n",
       "    <tr>\n",
       "      <th>232</th>\n",
       "      <td>2024-12-16 17:38:00</td>\n",
       "      <td>+91 91096 63182</td>\n",
       "      <td>&lt;Media omitted&gt;\\n</td>\n",
       "      <td>2024</td>\n",
       "      <td>December</td>\n",
       "      <td>16</td>\n",
       "      <td>17</td>\n",
       "      <td>38</td>\n",
       "      <td>12</td>\n",
       "      <td>2024-12-16</td>\n",
       "      <td>Monday</td>\n",
       "      <td>17-18</td>\n",
       "    </tr>\n",
       "    <tr>\n",
       "      <th>144</th>\n",
       "      <td>2024-11-01 19:24:00</td>\n",
       "      <td>group_notification</td>\n",
       "      <td>~ Abhash Varshney added Bhaiii (Ishu) and ~ Hi...</td>\n",
       "      <td>2024</td>\n",
       "      <td>November</td>\n",
       "      <td>1</td>\n",
       "      <td>19</td>\n",
       "      <td>24</td>\n",
       "      <td>11</td>\n",
       "      <td>2024-11-01</td>\n",
       "      <td>Friday</td>\n",
       "      <td>19-20</td>\n",
       "    </tr>\n",
       "    <tr>\n",
       "      <th>181</th>\n",
       "      <td>2024-11-01 21:52:00</td>\n",
       "      <td>+91 91096 63182</td>\n",
       "      <td>&lt;Media omitted&gt;\\n</td>\n",
       "      <td>2024</td>\n",
       "      <td>November</td>\n",
       "      <td>1</td>\n",
       "      <td>21</td>\n",
       "      <td>52</td>\n",
       "      <td>11</td>\n",
       "      <td>2024-11-01</td>\n",
       "      <td>Friday</td>\n",
       "      <td>21-22</td>\n",
       "    </tr>\n",
       "    <tr>\n",
       "      <th>118</th>\n",
       "      <td>2024-10-12 23:39:00</td>\n",
       "      <td>Shalu Di Mahamaya</td>\n",
       "      <td>&lt;Media omitted&gt;\\n</td>\n",
       "      <td>2024</td>\n",
       "      <td>October</td>\n",
       "      <td>12</td>\n",
       "      <td>23</td>\n",
       "      <td>39</td>\n",
       "      <td>10</td>\n",
       "      <td>2024-10-12</td>\n",
       "      <td>Saturday</td>\n",
       "      <td>23-00</td>\n",
       "    </tr>\n",
       "    <tr>\n",
       "      <th>73</th>\n",
       "      <td>2024-10-11 19:38:00</td>\n",
       "      <td>Happy Bahiya</td>\n",
       "      <td>&lt;Media omitted&gt;\\n</td>\n",
       "      <td>2024</td>\n",
       "      <td>October</td>\n",
       "      <td>11</td>\n",
       "      <td>19</td>\n",
       "      <td>38</td>\n",
       "      <td>10</td>\n",
       "      <td>2024-10-11</td>\n",
       "      <td>Friday</td>\n",
       "      <td>19-20</td>\n",
       "    </tr>\n",
       "  </tbody>\n",
       "</table>\n",
       "</div>"
      ],
      "text/plain": [
       "                   date                user  \\\n",
       "232 2024-12-16 17:38:00     +91 91096 63182   \n",
       "144 2024-11-01 19:24:00  group_notification   \n",
       "181 2024-11-01 21:52:00     +91 91096 63182   \n",
       "118 2024-10-12 23:39:00   Shalu Di Mahamaya   \n",
       "73  2024-10-11 19:38:00        Happy Bahiya   \n",
       "\n",
       "                                               message  year     month  day  \\\n",
       "232                                  <Media omitted>\\n  2024  December   16   \n",
       "144  ~ Abhash Varshney added Bhaiii (Ishu) and ~ Hi...  2024  November    1   \n",
       "181                                  <Media omitted>\\n  2024  November    1   \n",
       "118                                  <Media omitted>\\n  2024   October   12   \n",
       "73                                   <Media omitted>\\n  2024   October   11   \n",
       "\n",
       "     hour  minute  month_num   only_date  day_name period  \n",
       "232    17      38         12  2024-12-16    Monday  17-18  \n",
       "144    19      24         11  2024-11-01    Friday  19-20  \n",
       "181    21      52         11  2024-11-01    Friday  21-22  \n",
       "118    23      39         10  2024-10-12  Saturday  23-00  \n",
       "73     19      38         10  2024-10-11    Friday  19-20  "
      ]
     },
     "execution_count": 107,
     "metadata": {},
     "output_type": "execute_result"
    }
   ],
   "source": [
    "df.sample(5)"
   ]
  },
  {
   "cell_type": "code",
   "execution_count": 111,
   "metadata": {},
   "outputs": [
    {
     "name": "stdout",
     "output_type": "stream",
     "text": [
      "Collecting seaborn\n",
      "  Using cached seaborn-0.13.2-py3-none-any.whl.metadata (5.4 kB)\n",
      "Requirement already satisfied: numpy!=1.24.0,>=1.20 in c:\\users\\asus\\appdata\\local\\programs\\python\\python311\\lib\\site-packages (from seaborn) (1.23.5)\n",
      "Requirement already satisfied: pandas>=1.2 in c:\\users\\asus\\appdata\\local\\programs\\python\\python311\\lib\\site-packages (from seaborn) (1.5.3)\n",
      "Requirement already satisfied: matplotlib!=3.6.1,>=3.4 in c:\\users\\asus\\appdata\\local\\programs\\python\\python311\\lib\\site-packages (from seaborn) (3.6.3)\n",
      "Requirement already satisfied: contourpy>=1.0.1 in c:\\users\\asus\\appdata\\local\\programs\\python\\python311\\lib\\site-packages (from matplotlib!=3.6.1,>=3.4->seaborn) (1.0.7)\n",
      "Requirement already satisfied: cycler>=0.10 in c:\\users\\asus\\appdata\\local\\programs\\python\\python311\\lib\\site-packages (from matplotlib!=3.6.1,>=3.4->seaborn) (0.11.0)\n",
      "Requirement already satisfied: fonttools>=4.22.0 in c:\\users\\asus\\appdata\\local\\programs\\python\\python311\\lib\\site-packages (from matplotlib!=3.6.1,>=3.4->seaborn) (4.38.0)\n",
      "Requirement already satisfied: kiwisolver>=1.0.1 in c:\\users\\asus\\appdata\\local\\programs\\python\\python311\\lib\\site-packages (from matplotlib!=3.6.1,>=3.4->seaborn) (1.4.4)\n",
      "Requirement already satisfied: packaging>=20.0 in c:\\users\\asus\\appdata\\local\\programs\\python\\python311\\lib\\site-packages (from matplotlib!=3.6.1,>=3.4->seaborn) (23.0)\n",
      "Requirement already satisfied: pillow>=6.2.0 in c:\\users\\asus\\appdata\\local\\programs\\python\\python311\\lib\\site-packages (from matplotlib!=3.6.1,>=3.4->seaborn) (9.4.0)\n",
      "Requirement already satisfied: pyparsing>=2.2.1 in c:\\users\\asus\\appdata\\local\\programs\\python\\python311\\lib\\site-packages (from matplotlib!=3.6.1,>=3.4->seaborn) (3.0.9)\n",
      "Requirement already satisfied: python-dateutil>=2.7 in c:\\users\\asus\\appdata\\local\\programs\\python\\python311\\lib\\site-packages (from matplotlib!=3.6.1,>=3.4->seaborn) (2.8.2)\n",
      "Requirement already satisfied: pytz>=2020.1 in c:\\users\\asus\\appdata\\local\\programs\\python\\python311\\lib\\site-packages (from pandas>=1.2->seaborn) (2022.7.1)\n",
      "Requirement already satisfied: six>=1.5 in c:\\users\\asus\\appdata\\local\\programs\\python\\python311\\lib\\site-packages (from python-dateutil>=2.7->matplotlib!=3.6.1,>=3.4->seaborn) (1.16.0)\n",
      "Using cached seaborn-0.13.2-py3-none-any.whl (294 kB)\n",
      "Installing collected packages: seaborn\n",
      "Successfully installed seaborn-0.13.2\n",
      "Note: you may need to restart the kernel to use updated packages.\n"
     ]
    },
    {
     "name": "stderr",
     "output_type": "stream",
     "text": [
      "\n",
      "[notice] A new release of pip is available: 23.3.2 -> 24.3.1\n",
      "[notice] To update, run: python.exe -m pip install --upgrade pip\n"
     ]
    }
   ],
   "source": [
    "pip install seaborn\n"
   ]
  },
  {
   "cell_type": "code",
   "execution_count": 113,
   "metadata": {},
   "outputs": [
    {
     "data": {
      "image/png": "[encoded data removed]",
      "text/plain": [
       "<Figure size 2000x600 with 2 Axes>"
      ]
     },
     "metadata": {},
     "output_type": "display_data"
    }
   ],
   "source": [
    "import seaborn as sns\n",
    "plt.figure(figsize=(20,6))\n",
    "sns.heatmap(df.pivot_table(index='day_name', columns='period', values='message', aggfunc='count').fillna(0))\n",
    "plt.xticks(rotation=\"horizontal\")\n",
    "plt.show()"
   ]
  }
 ],
 "metadata": {
  "kernelspec": {
   "display_name": "Python 3",
   "language": "python",
   "name": "python3"
  },
  "language_info": {
   "codemirror_mode": {
    "name": "ipython",
    "version": 3
   },
   "file_extension": ".py",
   "mimetype": "text/x-python",
   "name": "python",
   "nbconvert_exporter": "python",
   "pygments_lexer": "ipython3",
   "version": "3.11.3"
  }
 },
 "nbformat": 4,
 "nbformat_minor": 2
}
